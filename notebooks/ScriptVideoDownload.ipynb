{
 "cells": [
  {
   "cell_type": "code",
   "execution_count": null,
   "metadata": {
    "collapsed": false
   },
   "outputs": [],
   "source": [
    "import os\n",
    "import sys\n",
    "import numpy as np\n",
    "sys.path.append('..')\n",
    "import requests\n",
    "import json\n",
    "from pytube import YouTube\n",
    "import youtube_dl\n",
    "import cv2\n",
    "from os import listdir"
   ]
  },
  {
   "cell_type": "code",
   "execution_count": null,
   "metadata": {
    "collapsed": false
   },
   "outputs": [],
   "source": [
    "with open('../data/activity_net.v1-2.min.json') as data_file:    \n",
    "    data = json.load(data_file)"
   ]
  },
  {
   "cell_type": "code",
   "execution_count": null,
   "metadata": {
    "collapsed": false
   },
   "outputs": [],
   "source": [
    "count_training = 0\n",
    "count_testing = 0\n",
    "count_validation = 0\n",
    "path = '../data/videos'\n",
    "\n",
    "for key, item in data[\"database\"].items():\n",
    "    count_training += item['subset'] == 'training'\n",
    "    count_testing += item['subset'] == 'testing'\n",
    "    count_validation += item['subset'] == 'validation'\n",
    "    \n",
    "    if count_training == 1000:\n",
    "        break\n",
    "    \n",
    "    if not os.path.exists(path + '/' + item['subset']):\n",
    "        os.makedirs(path)\n",
    "    \n",
    "    #if key + '.mkv' in os.listdir(path + '/' + item['subset']):\n",
    "        #print('video already downloaded')\n",
    "        #continue\n",
    "        \n",
    "    options = {\n",
    "        'outtmpl': path + '/' + item['subset'] + '/' + key,\n",
    "        'quiet': True,\n",
    "        'listformats': True, \n",
    "    }\n",
    "\n",
    "    with youtube_dl.YoutubeDL(options) as ydl:\n",
    "        try:\n",
    "            meta = ydl.extract_info(item['url'], download = False)\n",
    "            formats = meta.get('formats', [meta])\n",
    "            #ydl.download([item['url']])\n",
    "            #print(dir(ydl))\n",
    "        except:\n",
    "            print('errro')\n",
    "            continue\n",
    "    \n",
    "    print(formats)\n"
   ]
  },
  {
   "cell_type": "code",
   "execution_count": null,
   "metadata": {
    "collapsed": true
   },
   "outputs": [],
   "source": []
  }
 ],
 "metadata": {
  "kernelspec": {
   "display_name": "Python 3",
   "language": "python",
   "name": "python3"
  },
  "language_info": {
   "codemirror_mode": {
    "name": "ipython",
    "version": 3
   },
   "file_extension": ".py",
   "mimetype": "text/x-python",
   "name": "python",
   "nbconvert_exporter": "python",
   "pygments_lexer": "ipython3",
   "version": "3.6.7"
  }
 },
 "nbformat": 4,
 "nbformat_minor": 0
}
