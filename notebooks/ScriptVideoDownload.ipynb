{
 "cells": [
  {
   "cell_type": "code",
   "execution_count": 1,
   "metadata": {
    "collapsed": false
   },
   "outputs": [],
   "source": [
    "import os\n",
    "import sys\n",
    "import numpy as np\n",
    "sys.path.append('..')\n",
    "import requests\n",
    "import json\n",
    "from pytube import YouTube\n",
    "import youtube_dl\n",
    "import cv2\n",
    "from os import listdir"
   ]
  },
  {
   "cell_type": "code",
   "execution_count": 5,
   "metadata": {
    "collapsed": false
   },
   "outputs": [],
   "source": [
    "with open('../data/activity_net.v1-2.min.json') as data_file:    \n",
    "    data = json.load(data_file)"
   ]
  },
  {
   "cell_type": "code",
   "execution_count": 6,
   "metadata": {
    "collapsed": false
   },
   "outputs": [
    {
     "name": "stderr",
     "output_type": "stream",
     "text": [
      "WARNING: Requested formats are incompatible for merge and will be merged into mkv.\n",
      "ERROR: unable to download video data: HTTP Error 404: Not Found\n"
     ]
    },
    {
     "name": "stdout",
     "output_type": "stream",
     "text": [
      "video already downloaded\n",
      "video already downloaded\n",
      "video already downloaded\n",
      "video already downloaded\n",
      "video already downloaded\n",
      "video already downloaded\n",
      "video already downloaded"
     ]
    },
    {
     "name": "stderr",
     "output_type": "stream",
     "text": [
      "ERROR: unable to download video data: HTTP Error 404: Not Found\n",
      "WARNING: Unable to extract video title\n",
      "ERROR: This video is unavailable.\n"
     ]
    },
    {
     "name": "stdout",
     "output_type": "stream",
     "text": [
      "\n",
      "video already downloaded"
     ]
    },
    {
     "name": "stderr",
     "output_type": "stream",
     "text": [
      "WARNING: Unable to extract video title\n",
      "ERROR: \"Papoose Gets A Tatto...\" is no longer available due to a copyright claim by a third party.\n"
     ]
    },
    {
     "name": "stdout",
     "output_type": "stream",
     "text": [
      "\n",
      "video already downloaded"
     ]
    },
    {
     "name": "stderr",
     "output_type": "stream",
     "text": [
      "ERROR: unable to download video data: HTTP Error 404: Not Found\n",
      "ERROR: unable to download video data: HTTP Error 404: Not Found\n",
      "WARNING: Unable to extract video title\n",
      "ERROR: This video is unavailable.\n",
      "WARNING: Unable to extract video title\n",
      "ERROR: This video is unavailable.\n",
      "WARNING: Unable to extract video title\n",
      "ERROR: This video is unavailable.\n"
     ]
    },
    {
     "name": "stdout",
     "output_type": "stream",
     "text": [
      "\n",
      "video already downloaded\n",
      "video already downloaded"
     ]
    },
    {
     "name": "stderr",
     "output_type": "stream",
     "text": [
      "WARNING: Unable to extract video title\n",
      "ERROR: This video is unavailable.\n",
      "WARNING: Requested formats are incompatible for merge and will be merged into mkv.\n",
      "ERROR: unable to download video data: HTTP Error 404: Not Found\n",
      "ERROR: This video contains content from The Orchard Music, who has blocked it in your country on copyright grounds.\n"
     ]
    },
    {
     "name": "stdout",
     "output_type": "stream",
     "text": [
      "\n",
      "video already downloaded"
     ]
    },
    {
     "name": "stderr",
     "output_type": "stream",
     "text": [
      "WARNING: Requested formats are incompatible for merge and will be merged into mkv.\n",
      "WARNING: Requested formats are incompatible for merge and will be merged into mkv.\n"
     ]
    },
    {
     "name": "stdout",
     "output_type": "stream",
     "text": [
      "\n",
      "video already downloaded"
     ]
    },
    {
     "name": "stderr",
     "output_type": "stream",
     "text": [
      "ERROR: unable to download video data: HTTP Error 404: Not Found\n"
     ]
    },
    {
     "name": "stdout",
     "output_type": "stream",
     "text": [
      "\n",
      "video already downloaded\n",
      "video already downloaded\n",
      "video already downloaded"
     ]
    },
    {
     "name": "stderr",
     "output_type": "stream",
     "text": [
      "ERROR: unable to download video data: HTTP Error 404: Not Found\n"
     ]
    },
    {
     "name": "stdout",
     "output_type": "stream",
     "text": [
      "\n",
      "video already downloaded"
     ]
    },
    {
     "name": "stderr",
     "output_type": "stream",
     "text": [
      "ERROR: unable to download video data: HTTP Error 404: Not Found\n"
     ]
    },
    {
     "name": "stdout",
     "output_type": "stream",
     "text": [
      "\n",
      "video already downloaded\n",
      "video already downloaded\n",
      "video already downloaded\n",
      "video already downloaded"
     ]
    },
    {
     "name": "stderr",
     "output_type": "stream",
     "text": [
      "ERROR: unable to download video data: HTTP Error 404: Not Found\n"
     ]
    },
    {
     "name": "stdout",
     "output_type": "stream",
     "text": [
      "\n",
      "video already downloaded\n",
      "video already downloaded"
     ]
    },
    {
     "name": "stderr",
     "output_type": "stream",
     "text": [
      "ERROR: unable to download video data: HTTP Error 404: Not Found\n",
      "ERROR: unable to download video data: HTTP Error 404: Not Found\n",
      "WARNING: Requested formats are incompatible for merge and will be merged into mkv.\n"
     ]
    },
    {
     "name": "stdout",
     "output_type": "stream",
     "text": [
      "\n",
      "video already downloaded\n",
      "video already downloaded"
     ]
    },
    {
     "name": "stderr",
     "output_type": "stream",
     "text": [
      "WARNING: Unable to extract video title\n",
      "ERROR: This video has been removed for violating YouTube's Terms of Service.\n",
      "ERROR: unable to download video data: HTTP Error 404: Not Found\n",
      "WARNING: Unable to extract video title\n",
      "ERROR: This video is unavailable.\n",
      "ERROR: unable to download video data: HTTP Error 404: Not Found\n",
      "WARNING: Unable to extract video title\n",
      "ERROR: This video is unavailable.\n"
     ]
    },
    {
     "name": "stdout",
     "output_type": "stream",
     "text": [
      "\n",
      "video already downloaded\n",
      "video already downloaded\n",
      "video already downloaded\n",
      "video already downloaded\n",
      "video already downloaded\n",
      "video already downloaded\n",
      "video already downloaded\n",
      "video already downloaded\n",
      "video already downloaded\n",
      "video already downloaded\n",
      "video already downloaded"
     ]
    },
    {
     "name": "stderr",
     "output_type": "stream",
     "text": [
      "WARNING: Unable to extract video title\n",
      "ERROR: This video is no longer available because the YouTube account associated with this video has been terminated.\n"
     ]
    },
    {
     "name": "stdout",
     "output_type": "stream",
     "text": [
      "\n",
      "video already downloaded\n",
      "video already downloaded\n",
      "video already downloaded"
     ]
    },
    {
     "name": "stderr",
     "output_type": "stream",
     "text": [
      "WARNING: Requested formats are incompatible for merge and will be merged into mkv.\n",
      "ERROR: unable to download video data: HTTP Error 404: Not Found\n"
     ]
    },
    {
     "name": "stdout",
     "output_type": "stream",
     "text": [
      "\n",
      "video already downloaded"
     ]
    },
    {
     "name": "stderr",
     "output_type": "stream",
     "text": [
      "WARNING: Requested formats are incompatible for merge and will be merged into mkv.\n",
      "ERROR: unable to download video data: HTTP Error 404: Not Found\n"
     ]
    },
    {
     "name": "stdout",
     "output_type": "stream",
     "text": [
      "\n",
      "video already downloaded\n",
      "video already downloaded"
     ]
    },
    {
     "name": "stderr",
     "output_type": "stream",
     "text": [
      "ERROR: unable to download video data: HTTP Error 404: Not Found\n"
     ]
    },
    {
     "name": "stdout",
     "output_type": "stream",
     "text": [
      "\n",
      "video already downloaded"
     ]
    },
    {
     "name": "stderr",
     "output_type": "stream",
     "text": [
      "ERROR: unable to download video data: HTTP Error 404: Not Found\n"
     ]
    },
    {
     "name": "stdout",
     "output_type": "stream",
     "text": [
      "\n",
      "video already downloaded\n",
      "video already downloaded"
     ]
    },
    {
     "name": "stderr",
     "output_type": "stream",
     "text": [
      "ERROR: unable to download video data: HTTP Error 404: Not Found\n",
      "ERROR: unable to download video data: HTTP Error 404: Not Found\n"
     ]
    },
    {
     "name": "stdout",
     "output_type": "stream",
     "text": [
      "\n",
      "video already downloaded"
     ]
    },
    {
     "name": "stderr",
     "output_type": "stream",
     "text": [
      "ERROR: unable to download video data: HTTP Error 404: Not Found\n"
     ]
    },
    {
     "name": "stdout",
     "output_type": "stream",
     "text": [
      "\n",
      "video already downloaded"
     ]
    },
    {
     "name": "stderr",
     "output_type": "stream",
     "text": [
      "ERROR: unable to download video data: HTTP Error 403: Forbidden\n",
      "WARNING: Unable to extract video title\n",
      "ERROR: This video is unavailable.\n",
      "WARNING: Unable to extract video title\n",
      "ERROR: This video is unavailable.\n"
     ]
    },
    {
     "name": "stdout",
     "output_type": "stream",
     "text": [
      "\n",
      "video already downloaded"
     ]
    },
    {
     "name": "stderr",
     "output_type": "stream",
     "text": [
      "ERROR: unable to download video data: HTTP Error 404: Not Found\n",
      "ERROR: unable to download video data: HTTP Error 404: Not Found\n"
     ]
    },
    {
     "name": "stdout",
     "output_type": "stream",
     "text": [
      "\n",
      "video already downloaded"
     ]
    },
    {
     "name": "stderr",
     "output_type": "stream",
     "text": [
      "WARNING: Requested formats are incompatible for merge and will be merged into mkv.\n",
      "ERROR: unable to download video data: HTTP Error 404: Not Found\n",
      "WARNING: Requested formats are incompatible for merge and will be merged into mkv.\n",
      "ERROR: unable to download video data: HTTP Error 404: Not Found\n"
     ]
    },
    {
     "name": "stdout",
     "output_type": "stream",
     "text": [
      "\n",
      "video already downloaded\n",
      "video already downloaded\n",
      "video already downloaded\n",
      "video already downloaded"
     ]
    },
    {
     "name": "stderr",
     "output_type": "stream",
     "text": [
      "ERROR: unable to download video data: HTTP Error 404: Not Found\n"
     ]
    },
    {
     "name": "stdout",
     "output_type": "stream",
     "text": [
      "\n",
      "video already downloaded"
     ]
    },
    {
     "name": "stderr",
     "output_type": "stream",
     "text": [
      "WARNING: Unable to extract video title\n",
      "ERROR: This video is unavailable.\n"
     ]
    },
    {
     "name": "stdout",
     "output_type": "stream",
     "text": [
      "\n",
      "video already downloaded\n",
      "video already downloaded\n",
      "video already downloaded"
     ]
    },
    {
     "name": "stderr",
     "output_type": "stream",
     "text": [
      "WARNING: Requested formats are incompatible for merge and will be merged into mkv.\n",
      "ERROR: unable to download video data: HTTP Error 404: Not Found\n"
     ]
    },
    {
     "name": "stdout",
     "output_type": "stream",
     "text": [
      "\n",
      "video already downloaded\n",
      "video already downloaded"
     ]
    },
    {
     "name": "stderr",
     "output_type": "stream",
     "text": [
      "WARNING: Unable to extract video title\n",
      "ERROR: This video is unavailable.\n",
      "ERROR: unable to download video data: HTTP Error 404: Not Found\n",
      "WARNING: Unable to extract video title\n",
      "ERROR: This video is unavailable.\n"
     ]
    },
    {
     "name": "stdout",
     "output_type": "stream",
     "text": [
      "\n",
      "video already downloaded\n",
      "video already downloaded"
     ]
    },
    {
     "name": "stderr",
     "output_type": "stream",
     "text": [
      "WARNING: Requested formats are incompatible for merge and will be merged into mkv.\n",
      "ERROR: unable to download video data: HTTP Error 404: Not Found\n",
      "WARNING: Unable to extract video title\n",
      "ERROR: This video is unavailable.\n"
     ]
    },
    {
     "name": "stdout",
     "output_type": "stream",
     "text": [
      "\n",
      "video already downloaded"
     ]
    },
    {
     "name": "stderr",
     "output_type": "stream",
     "text": [
      "WARNING: Unable to extract video title\n",
      "ERROR: This video is unavailable.\n"
     ]
    },
    {
     "name": "stdout",
     "output_type": "stream",
     "text": [
      "\n",
      "video already downloaded"
     ]
    },
    {
     "name": "stderr",
     "output_type": "stream",
     "text": [
      "WARNING: Unable to extract video title\n",
      "ERROR: This video is unavailable.\n"
     ]
    },
    {
     "name": "stdout",
     "output_type": "stream",
     "text": [
      "\n",
      "video already downloaded\n",
      "video already downloaded\n",
      "video already downloaded\n",
      "video already downloaded"
     ]
    },
    {
     "name": "stderr",
     "output_type": "stream",
     "text": [
      "WARNING: Unable to extract video title\n",
      "ERROR: This video is unavailable.\n"
     ]
    },
    {
     "name": "stdout",
     "output_type": "stream",
     "text": [
      "\n",
      "video already downloaded"
     ]
    },
    {
     "name": "stderr",
     "output_type": "stream",
     "text": [
      "ERROR: unable to download video data: HTTP Error 404: Not Found\n"
     ]
    },
    {
     "name": "stdout",
     "output_type": "stream",
     "text": [
      "\n",
      "video already downloaded"
     ]
    },
    {
     "name": "stderr",
     "output_type": "stream",
     "text": [
      "ERROR: unable to download video data: HTTP Error 404: Not Found\n",
      "WARNING: Requested formats are incompatible for merge and will be merged into mkv.\n",
      "ERROR: unable to download video data: HTTP Error 404: Not Found\n"
     ]
    },
    {
     "name": "stdout",
     "output_type": "stream",
     "text": [
      "\n",
      "video already downloaded"
     ]
    },
    {
     "name": "stderr",
     "output_type": "stream",
     "text": [
      "WARNING: Requested formats are incompatible for merge and will be merged into mkv.\n",
      "ERROR: unable to download video data: HTTP Error 404: Not Found\n",
      "ERROR: unable to download video data: HTTP Error 404: Not Found\n"
     ]
    },
    {
     "name": "stdout",
     "output_type": "stream",
     "text": [
      "\n",
      "video already downloaded\n",
      "video already downloaded\n",
      "video already downloaded\n",
      "video already downloaded\n",
      "video already downloaded"
     ]
    },
    {
     "name": "stderr",
     "output_type": "stream",
     "text": [
      "WARNING: Unable to extract video title\n",
      "ERROR: This video is no longer available because the YouTube account associated with this video has been terminated.\n"
     ]
    },
    {
     "name": "stdout",
     "output_type": "stream",
     "text": [
      "\n",
      "video already downloaded\n",
      "video already downloaded\n",
      "video already downloaded\n",
      "video already downloaded"
     ]
    },
    {
     "name": "stderr",
     "output_type": "stream",
     "text": [
      "ERROR: unable to download video data: HTTP Error 404: Not Found\n",
      "WARNING: Unable to extract video title\n",
      "ERROR: This video is unavailable.\n"
     ]
    },
    {
     "name": "stdout",
     "output_type": "stream",
     "text": [
      "\n",
      "video already downloaded\n",
      "video already downloaded\n",
      "video already downloaded\n",
      "video already downloaded\n",
      "video already downloaded"
     ]
    },
    {
     "name": "stderr",
     "output_type": "stream",
     "text": [
      "ERROR: unable to download video data: HTTP Error 404: Not Found\n"
     ]
    },
    {
     "name": "stdout",
     "output_type": "stream",
     "text": [
      "\n",
      "video already downloaded"
     ]
    },
    {
     "name": "stderr",
     "output_type": "stream",
     "text": [
      "ERROR: This video is not available.\n",
      "ERROR: unable to download video data: HTTP Error 404: Not Found\n",
      "ERROR: unable to download video data: HTTP Error 404: Not Found\n",
      "ERROR: unable to download video data: HTTP Error 404: Not Found\n",
      "WARNING: Unable to extract video title\n",
      "ERROR: This video is unavailable.\n"
     ]
    },
    {
     "name": "stdout",
     "output_type": "stream",
     "text": [
      "\n",
      "video already downloaded\n",
      "video already downloaded\n",
      "video already downloaded\n",
      "video already downloaded"
     ]
    },
    {
     "name": "stderr",
     "output_type": "stream",
     "text": [
      "ERROR: unable to download video data: HTTP Error 404: Not Found\n"
     ]
    },
    {
     "name": "stdout",
     "output_type": "stream",
     "text": [
      "\n",
      "video already downloaded\n",
      "video already downloaded\n",
      "video already downloaded\n",
      "video already downloaded"
     ]
    },
    {
     "name": "stderr",
     "output_type": "stream",
     "text": [
      "ERROR: unable to download video data: HTTP Error 404: Not Found\n"
     ]
    },
    {
     "name": "stdout",
     "output_type": "stream",
     "text": [
      "\n",
      "video already downloaded"
     ]
    },
    {
     "name": "stderr",
     "output_type": "stream",
     "text": [
      "ERROR: unable to download video data: HTTP Error 404: Not Found\n",
      "ERROR: unable to download video data: HTTP Error 404: Not Found\n"
     ]
    },
    {
     "name": "stdout",
     "output_type": "stream",
     "text": [
      "\n",
      "video already downloaded"
     ]
    },
    {
     "name": "stderr",
     "output_type": "stream",
     "text": [
      "WARNING: Requested formats are incompatible for merge and will be merged into mkv.\n",
      "ERROR: unable to download video data: HTTP Error 404: Not Found\n",
      "WARNING: Unable to extract video title\n",
      "ERROR: This video is unavailable.\n",
      "WARNING: Unable to extract video title\n",
      "ERROR: This video is unavailable.\n"
     ]
    },
    {
     "name": "stdout",
     "output_type": "stream",
     "text": [
      "\n",
      "video already downloaded\n",
      "video already downloaded"
     ]
    },
    {
     "name": "stderr",
     "output_type": "stream",
     "text": [
      "WARNING: Unable to extract video title\n",
      "ERROR: This video is unavailable.\n",
      "WARNING: Requested formats are incompatible for merge and will be merged into mkv.\n",
      "ERROR: unable to download video data: HTTP Error 404: Not Found\n"
     ]
    },
    {
     "name": "stdout",
     "output_type": "stream",
     "text": [
      "\n",
      "video already downloaded\n",
      "video already downloaded\n",
      "video already downloaded\n",
      "video already downloaded\n",
      "video already downloaded\n",
      "video already downloaded\n",
      "video already downloaded\n",
      "video already downloaded"
     ]
    },
    {
     "name": "stderr",
     "output_type": "stream",
     "text": [
      "WARNING: Unable to extract video title\n",
      "ERROR: This video is unavailable.\n"
     ]
    },
    {
     "name": "stdout",
     "output_type": "stream",
     "text": [
      "\n",
      "video already downloaded"
     ]
    },
    {
     "name": "stderr",
     "output_type": "stream",
     "text": [
      "WARNING: Unable to extract video title\n",
      "ERROR: This video is unavailable.\n"
     ]
    },
    {
     "name": "stdout",
     "output_type": "stream",
     "text": [
      "\n",
      "video already downloaded"
     ]
    },
    {
     "name": "stderr",
     "output_type": "stream",
     "text": [
      "ERROR: unable to download video data: HTTP Error 404: Not Found\n"
     ]
    },
    {
     "name": "stdout",
     "output_type": "stream",
     "text": [
      "\n",
      "video already downloaded\n",
      "video already downloaded\n",
      "video already downloaded"
     ]
    },
    {
     "name": "stderr",
     "output_type": "stream",
     "text": [
      "ERROR: unable to download video data: HTTP Error 404: Not Found\n"
     ]
    },
    {
     "name": "stdout",
     "output_type": "stream",
     "text": [
      "\n",
      "video already downloaded\n",
      "video already downloaded\n",
      "video already downloaded\n",
      "video already downloaded\n",
      "video already downloaded\n",
      "video already downloaded"
     ]
    },
    {
     "name": "stderr",
     "output_type": "stream",
     "text": [
      "WARNING: Unable to extract video title\n",
      "ERROR: This video is unavailable.\n"
     ]
    },
    {
     "name": "stdout",
     "output_type": "stream",
     "text": [
      "\n",
      "video already downloaded"
     ]
    },
    {
     "name": "stderr",
     "output_type": "stream",
     "text": [
      "ERROR: unable to download video data: HTTP Error 404: Not Found\n",
      "ERROR: unable to download video data: HTTP Error 404: Not Found\n"
     ]
    },
    {
     "name": "stdout",
     "output_type": "stream",
     "text": [
      "\n",
      "video already downloaded\n",
      "video already downloaded\n",
      "video already downloaded"
     ]
    },
    {
     "name": "stderr",
     "output_type": "stream",
     "text": [
      "WARNING: Unable to extract video title\n",
      "ERROR: This video is unavailable.\n"
     ]
    },
    {
     "name": "stdout",
     "output_type": "stream",
     "text": [
      "\n",
      "video already downloaded\n",
      "video already downloaded"
     ]
    },
    {
     "name": "stderr",
     "output_type": "stream",
     "text": [
      "ERROR: unable to download video data: HTTP Error 404: Not Found\n",
      "ERROR: unable to download video data: HTTP Error 404: Not Found\n"
     ]
    },
    {
     "name": "stdout",
     "output_type": "stream",
     "text": [
      "\n",
      "video already downloaded"
     ]
    },
    {
     "name": "stderr",
     "output_type": "stream",
     "text": [
      "WARNING: Requested formats are incompatible for merge and will be merged into mkv.\n",
      "ERROR: unable to download video data: HTTP Error 404: Not Found\n"
     ]
    },
    {
     "name": "stdout",
     "output_type": "stream",
     "text": [
      "\n",
      "video already downloaded"
     ]
    },
    {
     "name": "stderr",
     "output_type": "stream",
     "text": [
      "ERROR: unable to download video data: HTTP Error 404: Not Found\n"
     ]
    },
    {
     "name": "stdout",
     "output_type": "stream",
     "text": [
      "\n",
      "video already downloaded\n",
      "video already downloaded"
     ]
    },
    {
     "name": "stderr",
     "output_type": "stream",
     "text": [
      "ERROR: unable to download video data: HTTP Error 404: Not Found\n"
     ]
    },
    {
     "name": "stdout",
     "output_type": "stream",
     "text": [
      "\n",
      "video already downloaded\n",
      "video already downloaded\n",
      "video already downloaded\n",
      "video already downloaded\n",
      "video already downloaded"
     ]
    },
    {
     "name": "stderr",
     "output_type": "stream",
     "text": [
      "ERROR: unable to download video data: HTTP Error 404: Not Found\n",
      "ERROR: unable to download video data: HTTP Error 404: Not Found\n"
     ]
    },
    {
     "name": "stdout",
     "output_type": "stream",
     "text": [
      "\n",
      "video already downloaded"
     ]
    },
    {
     "name": "stderr",
     "output_type": "stream",
     "text": [
      "WARNING: Requested formats are incompatible for merge and will be merged into mkv.\n",
      "ERROR: unable to download video data: HTTP Error 404: Not Found\n"
     ]
    },
    {
     "name": "stdout",
     "output_type": "stream",
     "text": [
      "\n",
      "video already downloaded"
     ]
    },
    {
     "name": "stderr",
     "output_type": "stream",
     "text": [
      "ERROR: unable to download video data: HTTP Error 404: Not Found\n"
     ]
    },
    {
     "name": "stdout",
     "output_type": "stream",
     "text": [
      "\n",
      "video already downloaded\n",
      "video already downloaded"
     ]
    },
    {
     "name": "stderr",
     "output_type": "stream",
     "text": [
      "WARNING: Requested formats are incompatible for merge and will be merged into mkv.\n",
      "ERROR: unable to download video data: HTTP Error 404: Not Found\n"
     ]
    },
    {
     "name": "stdout",
     "output_type": "stream",
     "text": [
      "\n",
      "video already downloaded\n",
      "video already downloaded\n",
      "video already downloaded\n",
      "video already downloaded\n",
      "video already downloaded\n",
      "video already downloaded"
     ]
    },
    {
     "name": "stderr",
     "output_type": "stream",
     "text": [
      "WARNING: Requested formats are incompatible for merge and will be merged into mkv.\n",
      "ERROR: unable to download video data: HTTP Error 404: Not Found\n"
     ]
    },
    {
     "name": "stdout",
     "output_type": "stream",
     "text": [
      "\n",
      "video already downloaded\n",
      "video already downloaded\n",
      "video already downloaded\n",
      "video already downloaded"
     ]
    },
    {
     "name": "stderr",
     "output_type": "stream",
     "text": [
      "WARNING: Requested formats are incompatible for merge and will be merged into mkv.\n",
      "ERROR: unable to download video data: HTTP Error 404: Not Found\n"
     ]
    },
    {
     "name": "stdout",
     "output_type": "stream",
     "text": [
      "\n",
      "video already downloaded"
     ]
    },
    {
     "name": "stderr",
     "output_type": "stream",
     "text": [
      "ERROR: unable to download video data: HTTP Error 404: Not Found\n",
      "WARNING: Requested formats are incompatible for merge and will be merged into mkv.\n",
      "ERROR: unable to download video data: HTTP Error 404: Not Found\n"
     ]
    },
    {
     "name": "stdout",
     "output_type": "stream",
     "text": [
      "\n",
      "video already downloaded\n",
      "video already downloaded\n",
      "video already downloaded\n",
      "video already downloaded\n",
      "video already downloaded"
     ]
    },
    {
     "name": "stderr",
     "output_type": "stream",
     "text": [
      "ERROR: unable to download video data: HTTP Error 404: Not Found\n"
     ]
    },
    {
     "name": "stdout",
     "output_type": "stream",
     "text": [
      "\n",
      "video already downloaded\n",
      "video already downloaded"
     ]
    },
    {
     "name": "stderr",
     "output_type": "stream",
     "text": [
      "WARNING: Requested formats are incompatible for merge and will be merged into mkv.\n",
      "ERROR: unable to download video data: HTTP Error 404: Not Found\n",
      "ERROR: unable to download video data: HTTP Error 404: Not Found\n",
      "WARNING: Requested formats are incompatible for merge and will be merged into mkv.\n",
      "ERROR: unable to download video data: HTTP Error 404: Not Found\n",
      "ERROR: unable to download video data: HTTP Error 404: Not Found\n"
     ]
    },
    {
     "name": "stdout",
     "output_type": "stream",
     "text": [
      "\n",
      "video already downloaded\n",
      "video already downloaded\n",
      "video already downloaded\n",
      "video already downloaded"
     ]
    },
    {
     "name": "stderr",
     "output_type": "stream",
     "text": [
      "WARNING: Unable to extract video title\n",
      "ERROR: This video is unavailable.\n",
      "ERROR: unable to download video data: HTTP Error 404: Not Found\n"
     ]
    },
    {
     "name": "stdout",
     "output_type": "stream",
     "text": [
      "\n",
      "video already downloaded"
     ]
    },
    {
     "name": "stderr",
     "output_type": "stream",
     "text": [
      "ERROR: unable to download video data: HTTP Error 404: Not Found\n"
     ]
    },
    {
     "name": "stdout",
     "output_type": "stream",
     "text": [
      "\n",
      "video already downloaded\n",
      "video already downloaded\n",
      "video already downloaded"
     ]
    },
    {
     "name": "stderr",
     "output_type": "stream",
     "text": [
      "ERROR: unable to download video data: HTTP Error 404: Not Found\n",
      "ERROR: unable to download video data: HTTP Error 404: Not Found\n",
      "WARNING: Unable to extract video title\n",
      "ERROR: This video is unavailable.\n"
     ]
    },
    {
     "name": "stdout",
     "output_type": "stream",
     "text": [
      "\n",
      "video already downloaded\n",
      "video already downloaded"
     ]
    },
    {
     "name": "stderr",
     "output_type": "stream",
     "text": [
      "ERROR: unable to download video data: HTTP Error 404: Not Found\n"
     ]
    },
    {
     "name": "stdout",
     "output_type": "stream",
     "text": [
      "\n",
      "video already downloaded\n",
      "video already downloaded"
     ]
    },
    {
     "name": "stderr",
     "output_type": "stream",
     "text": [
      "WARNING: Requested formats are incompatible for merge and will be merged into mkv.\n",
      "ERROR: unable to download video data: HTTP Error 404: Not Found\n",
      "WARNING: Unable to extract video title\n",
      "ERROR: \"Ministerio de la Juventud c...\" The YouTube account associated with this video has been terminated due to multiple third-party notifications of copyright infringement.\n"
     ]
    },
    {
     "name": "stdout",
     "output_type": "stream",
     "text": [
      "\n",
      "video already downloaded\n",
      "video already downloaded\n",
      "video already downloaded"
     ]
    },
    {
     "name": "stderr",
     "output_type": "stream",
     "text": [
      "ERROR: unable to download video data: HTTP Error 404: Not Found\n"
     ]
    },
    {
     "name": "stdout",
     "output_type": "stream",
     "text": [
      "\n",
      "video already downloaded"
     ]
    },
    {
     "name": "stderr",
     "output_type": "stream",
     "text": [
      "WARNING: Unable to extract video title\n",
      "ERROR: This video is unavailable.\n",
      "WARNING: Unable to extract video title\n",
      "ERROR: This video is no longer available because the YouTube account associated with this video has been terminated.\n",
      "WARNING: Unable to extract video title\n",
      "ERROR: This video is no longer available because the YouTube account associated with this video has been terminated.\n",
      "WARNING: Unable to extract video title\n",
      "ERROR: This video is unavailable.\n",
      "WARNING: Unable to extract video title\n",
      "ERROR: \"#7 Balmeet Kullar Fi...\" is no longer available due to a copyright claim by a third party.\n",
      "WARNING: Unable to extract video title\n",
      "ERROR: This video is unavailable.\n",
      "WARNING: Unable to extract video title\n",
      "ERROR: This video is unavailable.\n",
      "ERROR: unable to download video data: HTTP Error 404: Not Found\n",
      "WARNING: Requested formats are incompatible for merge and will be merged into mkv.\n",
      "ERROR: unable to download video data: HTTP Error 404: Not Found\n",
      "ERROR: unable to download video data: HTTP Error 404: Not Found\n",
      "WARNING: Unable to extract video title\n",
      "ERROR: This video is unavailable.\n"
     ]
    },
    {
     "name": "stdout",
     "output_type": "stream",
     "text": [
      "\n",
      "video already downloaded\n",
      "video already downloaded\n",
      "video already downloaded\n",
      "video already downloaded\n",
      "video already downloaded\n",
      "video already downloaded"
     ]
    },
    {
     "name": "stderr",
     "output_type": "stream",
     "text": [
      "WARNING: Unable to extract video title\n",
      "ERROR: This video is no longer available because the YouTube account associated with this video has been terminated.\n"
     ]
    },
    {
     "name": "stdout",
     "output_type": "stream",
     "text": [
      "\n",
      "video already downloaded"
     ]
    },
    {
     "name": "stderr",
     "output_type": "stream",
     "text": [
      "ERROR: unable to download video data: HTTP Error 404: Not Found\n",
      "WARNING: Requested formats are incompatible for merge and will be merged into mkv.\n",
      "ERROR: unable to download video data: HTTP Error 404: Not Found\n"
     ]
    },
    {
     "name": "stdout",
     "output_type": "stream",
     "text": [
      "\n",
      "video already downloaded"
     ]
    },
    {
     "name": "stderr",
     "output_type": "stream",
     "text": [
      "ERROR: unable to download video data: HTTP Error 404: Not Found\n"
     ]
    },
    {
     "name": "stdout",
     "output_type": "stream",
     "text": [
      "\n",
      "video already downloaded\n",
      "video already downloaded\n",
      "video already downloaded"
     ]
    },
    {
     "name": "stderr",
     "output_type": "stream",
     "text": [
      "ERROR: unable to download video data: HTTP Error 404: Not Found\n"
     ]
    },
    {
     "name": "stdout",
     "output_type": "stream",
     "text": [
      "\n",
      "video already downloaded\n",
      "video already downloaded\n",
      "video already downloaded"
     ]
    },
    {
     "name": "stderr",
     "output_type": "stream",
     "text": [
      "ERROR: unable to download video data: HTTP Error 404: Not Found\n",
      "ERROR: unable to download video data: HTTP Error 404: Not Found\n"
     ]
    },
    {
     "name": "stdout",
     "output_type": "stream",
     "text": [
      "\n",
      "video already downloaded"
     ]
    },
    {
     "name": "stderr",
     "output_type": "stream",
     "text": [
      "WARNING: Unable to extract video title\n",
      "ERROR: \"Aliya Mustafina UB 2012...\" The YouTube account associated with this video has been terminated due to multiple third-party notifications of copyright infringement.\n"
     ]
    },
    {
     "name": "stdout",
     "output_type": "stream",
     "text": [
      "\n",
      "video already downloaded"
     ]
    },
    {
     "name": "stderr",
     "output_type": "stream",
     "text": [
      "ERROR: unable to download video data: HTTP Error 404: Not Found\n"
     ]
    },
    {
     "name": "stdout",
     "output_type": "stream",
     "text": [
      "\n",
      "video already downloaded"
     ]
    },
    {
     "name": "stderr",
     "output_type": "stream",
     "text": [
      "WARNING: Unable to extract video title\n",
      "ERROR: This video is no longer available because the YouTube account associated with this video has been terminated.\n",
      "ERROR: unable to download video data: HTTP Error 404: Not Found\n",
      "WARNING: Unable to extract video title\n",
      "ERROR: This video is no longer available because the YouTube account associated with this video has been terminated.\n",
      "WARNING: Unable to extract video title\n",
      "ERROR: This video is unavailable.\n"
     ]
    },
    {
     "name": "stdout",
     "output_type": "stream",
     "text": [
      "\n",
      "video already downloaded"
     ]
    },
    {
     "name": "stderr",
     "output_type": "stream",
     "text": [
      "WARNING: Unable to extract video title\n",
      "ERROR: This video is unavailable.\n"
     ]
    },
    {
     "name": "stdout",
     "output_type": "stream",
     "text": [
      "\n",
      "video already downloaded\n",
      "video already downloaded"
     ]
    },
    {
     "name": "stderr",
     "output_type": "stream",
     "text": [
      "WARNING: Unable to extract video title\n",
      "ERROR: This video is unavailable.\n",
      "ERROR: unable to download video data: HTTP Error 404: Not Found\n",
      "ERROR: This video contains content from SME, who has blocked it in your country on copyright grounds.\n"
     ]
    },
    {
     "name": "stdout",
     "output_type": "stream",
     "text": [
      "\n",
      "video already downloaded"
     ]
    },
    {
     "name": "stderr",
     "output_type": "stream",
     "text": [
      "ERROR: unable to download video data: HTTP Error 404: Not Found\n"
     ]
    },
    {
     "name": "stdout",
     "output_type": "stream",
     "text": [
      "\n",
      "video already downloaded\n",
      "video already downloaded\n",
      "video already downloaded"
     ]
    },
    {
     "name": "stderr",
     "output_type": "stream",
     "text": [
      "WARNING: Unable to extract video title\n",
      "ERROR: This video has been removed for violating YouTube's Terms of Service.\n"
     ]
    },
    {
     "name": "stdout",
     "output_type": "stream",
     "text": [
      "\n",
      "video already downloaded\n",
      "video already downloaded\n",
      "video already downloaded\n",
      "video already downloaded\n",
      "video already downloaded\n",
      "video already downloaded\n",
      "video already downloaded\n",
      "video already downloaded\n",
      "video already downloaded\n",
      "video already downloaded"
     ]
    },
    {
     "name": "stderr",
     "output_type": "stream",
     "text": [
      "ERROR: unable to download video data: HTTP Error 404: Not Found\n"
     ]
    },
    {
     "name": "stdout",
     "output_type": "stream",
     "text": [
      "\n",
      "video already downloaded"
     ]
    },
    {
     "name": "stderr",
     "output_type": "stream",
     "text": [
      "ERROR: unable to download video data: HTTP Error 404: Not Found\n",
      "ERROR: unable to download video data: HTTP Error 404: Not Found\n"
     ]
    },
    {
     "name": "stdout",
     "output_type": "stream",
     "text": [
      "\n",
      "video already downloaded"
     ]
    },
    {
     "name": "stderr",
     "output_type": "stream",
     "text": [
      "WARNING: Requested formats are incompatible for merge and will be merged into mkv.\n",
      "ERROR: unable to download video data: HTTP Error 404: Not Found\n"
     ]
    },
    {
     "name": "stdout",
     "output_type": "stream",
     "text": [
      "\n",
      "video already downloaded"
     ]
    },
    {
     "name": "stderr",
     "output_type": "stream",
     "text": [
      "ERROR: unable to download video data: HTTP Error 404: Not Found\n"
     ]
    },
    {
     "name": "stdout",
     "output_type": "stream",
     "text": [
      "\n",
      "video already downloaded\n",
      "video already downloaded\n",
      "video already downloaded"
     ]
    },
    {
     "name": "stderr",
     "output_type": "stream",
     "text": [
      "ERROR: unable to download video data: HTTP Error 404: Not Found\n",
      "ERROR: unable to download video data: HTTP Error 404: Not Found\n"
     ]
    },
    {
     "name": "stdout",
     "output_type": "stream",
     "text": [
      "\n",
      "video already downloaded"
     ]
    },
    {
     "name": "stderr",
     "output_type": "stream",
     "text": [
      "ERROR: unable to download video data: HTTP Error 404: Not Found\n",
      "WARNING: Unable to extract video title\n",
      "ERROR: This video is unavailable.\n",
      "ERROR: unable to download video data: HTTP Error 404: Not Found\n",
      "ERROR: unable to download video data: HTTP Error 404: Not Found\n",
      "WARNING: Requested formats are incompatible for merge and will be merged into mkv.\n",
      "ERROR: unable to download video data: HTTP Error 404: Not Found\n",
      "ERROR: unable to download video data: HTTP Error 404: Not Found\n"
     ]
    },
    {
     "name": "stdout",
     "output_type": "stream",
     "text": [
      "\n",
      "video already downloaded\n",
      "video already downloaded\n",
      "video already downloaded\n",
      "video already downloaded\n",
      "video already downloaded\n",
      "video already downloaded"
     ]
    },
    {
     "name": "stderr",
     "output_type": "stream",
     "text": [
      "WARNING: Requested formats are incompatible for merge and will be merged into mkv.\n",
      "ERROR: unable to download video data: HTTP Error 404: Not Found\n"
     ]
    },
    {
     "name": "stdout",
     "output_type": "stream",
     "text": [
      "\n",
      "video already downloaded\n",
      "video already downloaded"
     ]
    },
    {
     "name": "stderr",
     "output_type": "stream",
     "text": [
      "ERROR: unable to download video data: HTTP Error 404: Not Found\n"
     ]
    },
    {
     "name": "stdout",
     "output_type": "stream",
     "text": [
      "\n",
      "video already downloaded\n",
      "video already downloaded\n",
      "video already downloaded\n",
      "video already downloaded"
     ]
    },
    {
     "name": "stderr",
     "output_type": "stream",
     "text": [
      "ERROR: unable to download video data: HTTP Error 404: Not Found\n",
      "ERROR: unable to download video data: HTTP Error 404: Not Found\n",
      "ERROR: unable to download video data: HTTP Error 404: Not Found\n"
     ]
    },
    {
     "name": "stdout",
     "output_type": "stream",
     "text": [
      "\n",
      "video already downloaded\n",
      "video already downloaded"
     ]
    },
    {
     "name": "stderr",
     "output_type": "stream",
     "text": [
      "ERROR: unable to download video data: HTTP Error 404: Not Found\n"
     ]
    },
    {
     "name": "stdout",
     "output_type": "stream",
     "text": [
      "\n",
      "video already downloaded\n",
      "video already downloaded\n",
      "video already downloaded\n",
      "video already downloaded\n",
      "video already downloaded\n",
      "video already downloaded\n",
      "video already downloaded\n",
      "video already downloaded"
     ]
    },
    {
     "name": "stderr",
     "output_type": "stream",
     "text": [
      "WARNING: Unable to extract video title\n",
      "ERROR: This video is no longer available because the YouTube account associated with this video has been terminated.\n"
     ]
    },
    {
     "name": "stdout",
     "output_type": "stream",
     "text": [
      "\n",
      "video already downloaded\n",
      "video already downloaded"
     ]
    },
    {
     "name": "stderr",
     "output_type": "stream",
     "text": [
      "WARNING: Unable to extract video title\n",
      "ERROR: \"Nepali Volle...\" The YouTube account associated with this video has been terminated due to multiple third-party notifications of copyright infringement.\n"
     ]
    },
    {
     "name": "stdout",
     "output_type": "stream",
     "text": [
      "\n",
      "video already downloaded\n",
      "video already downloaded\n",
      "video already downloaded"
     ]
    },
    {
     "name": "stderr",
     "output_type": "stream",
     "text": [
      "ERROR: unable to download video data: HTTP Error 404: Not Found\n"
     ]
    },
    {
     "name": "stdout",
     "output_type": "stream",
     "text": [
      "\n",
      "video already downloaded"
     ]
    },
    {
     "name": "stderr",
     "output_type": "stream",
     "text": [
      "ERROR: unable to download video data: HTTP Error 404: Not Found\n",
      "ERROR: unable to download video data: HTTP Error 404: Not Found\n",
      "WARNING: Unable to extract video title\n",
      "ERROR: This video is no longer available because the YouTube account associated with this video has been terminated.\n",
      "ERROR: unable to download video data: HTTP Error 404: Not Found\n"
     ]
    },
    {
     "name": "stdout",
     "output_type": "stream",
     "text": [
      "\n",
      "video already downloaded\n",
      "video already downloaded\n",
      "video already downloaded"
     ]
    },
    {
     "name": "stderr",
     "output_type": "stream",
     "text": [
      "WARNING: Requested formats are incompatible for merge and will be merged into mkv.\n",
      "WARNING: Unable to extract video title\n",
      "ERROR: This video is no longer available because the YouTube account associated with this video has been terminated.\n",
      "WARNING: Unable to extract video title\n",
      "ERROR: This video is unavailable.\n",
      "ERROR: unable to download video data: HTTP Error 404: Not Found\n",
      "WARNING: Requested formats are incompatible for merge and will be merged into mkv.\n",
      "ERROR: unable to download video data: HTTP Error 404: Not Found\n"
     ]
    },
    {
     "name": "stdout",
     "output_type": "stream",
     "text": [
      "\n",
      "video already downloaded\n",
      "video already downloaded\n",
      "video already downloaded"
     ]
    },
    {
     "name": "stderr",
     "output_type": "stream",
     "text": [
      "WARNING: Requested formats are incompatible for merge and will be merged into mkv.\n",
      "WARNING: Requested formats are incompatible for merge and will be merged into mkv.\n",
      "ERROR: unable to download video data: HTTP Error 404: Not Found\n",
      "WARNING: Unable to extract video title\n",
      "ERROR: This video is unavailable.\n",
      "WARNING: Requested formats are incompatible for merge and will be merged into mkv.\n",
      "WARNING: Requested formats are incompatible for merge and will be merged into mkv.\n",
      "WARNING: Requested formats are incompatible for merge and will be merged into mkv.\n",
      "WARNING: Requested formats are incompatible for merge and will be merged into mkv.\n",
      "ERROR: unable to download video data: HTTP Error 404: Not Found\n",
      "WARNING: Requested formats are incompatible for merge and will be merged into mkv.\n",
      "WARNING: Requested formats are incompatible for merge and will be merged into mkv.\n",
      "WARNING: Requested formats are incompatible for merge and will be merged into mkv.\n",
      "WARNING: Requested formats are incompatible for merge and will be merged into mkv.\n",
      "WARNING: Requested formats are incompatible for merge and will be merged into mkv.\n",
      "WARNING: Requested formats are incompatible for merge and will be merged into mkv.\n",
      "WARNING: Requested formats are incompatible for merge and will be merged into mkv.\n",
      "WARNING: Unable to extract video title\n",
      "ERROR: This video is unavailable.\n",
      "WARNING: Requested formats are incompatible for merge and will be merged into mkv.\n",
      "WARNING: Requested formats are incompatible for merge and will be merged into mkv.\n",
      "WARNING: Unable to extract video title\n",
      "ERROR: \"Multiple Cigarett...\" The YouTube account associated with this video has been terminated due to multiple third-party notifications of copyright infringement.\n",
      "WARNING: Requested formats are incompatible for merge and will be merged into mkv.\n",
      "ERROR: unable to download video data: HTTP Error 404: Not Found\n",
      "WARNING: Requested formats are incompatible for merge and will be merged into mkv.\n",
      "WARNING: Requested formats are incompatible for merge and will be merged into mkv.\n",
      "WARNING: Requested formats are incompatible for merge and will be merged into mkv.\n",
      "WARNING: Unable to extract video title\n",
      "ERROR: This video is unavailable.\n",
      "ERROR: unable to download video data: HTTP Error 404: Not Found\n",
      "ERROR: unable to download video data: HTTP Error 404: Not Found\n",
      "WARNING: Requested formats are incompatible for merge and will be merged into mkv.\n",
      "ERROR: unable to download video data: HTTP Error 404: Not Found\n",
      "WARNING: Requested formats are incompatible for merge and will be merged into mkv.\n",
      "ERROR: unable to download video data: HTTP Error 404: Not Found\n",
      "ERROR: This video contains content from WMG, who has blocked it in your country on copyright grounds.\n",
      "WARNING: Requested formats are incompatible for merge and will be merged into mkv.\n",
      "WARNING: Unable to extract video title\n",
      "ERROR: This video is no longer available because the YouTube account associated with this video has been terminated.\n",
      "ERROR: unable to download video data: HTTP Error 404: Not Found\n",
      "ERROR: unable to download video data: HTTP Error 404: Not Found\n",
      "WARNING: Requested formats are incompatible for merge and will be merged into mkv.\n",
      "WARNING: Requested formats are incompatible for merge and will be merged into mkv.\n",
      "ERROR: unable to download video data: HTTP Error 404: Not Found\n",
      "WARNING: Requested formats are incompatible for merge and will be merged into mkv.\n",
      "WARNING: Requested formats are incompatible for merge and will be merged into mkv.\n",
      "ERROR: unable to download video data: HTTP Error 404: Not Found\n",
      "WARNING: Requested formats are incompatible for merge and will be merged into mkv.\n",
      "WARNING: Unable to extract video title\n",
      "ERROR: This video is unavailable.\n",
      "WARNING: Requested formats are incompatible for merge and will be merged into mkv.\n",
      "WARNING: Requested formats are incompatible for merge and will be merged into mkv.\n",
      "WARNING: Requested formats are incompatible for merge and will be merged into mkv.\n",
      "ERROR: unable to download video data: HTTP Error 404: Not Found\n",
      "WARNING: Requested formats are incompatible for merge and will be merged into mkv.\n",
      "ERROR: unable to download video data: HTTP Error 404: Not Found\n",
      "WARNING: Requested formats are incompatible for merge and will be merged into mkv.\n",
      "ERROR: unable to download video data: HTTP Error 404: Not Found\n",
      "WARNING: Requested formats are incompatible for merge and will be merged into mkv.\n",
      "WARNING: Requested formats are incompatible for merge and will be merged into mkv.\n",
      "ERROR: unable to download video data: HTTP Error 404: Not Found\n",
      "WARNING: Requested formats are incompatible for merge and will be merged into mkv.\n",
      "ERROR: giving up after 0 retries\n",
      "WARNING: Requested formats are incompatible for merge and will be merged into mkv.\n",
      "WARNING: Requested formats are incompatible for merge and will be merged into mkv.\n",
      "WARNING: Requested formats are incompatible for merge and will be merged into mkv.\n",
      "WARNING: Unable to extract video title\n",
      "ERROR: This video is unavailable.\n",
      "ERROR: unable to download video data: HTTP Error 404: Not Found\n",
      "ERROR: unable to download video data: HTTP Error 404: Not Found\n",
      "ERROR: unable to download video data: HTTP Error 404: Not Found\n",
      "ERROR: unable to download video data: HTTP Error 404: Not Found\n",
      "WARNING: Requested formats are incompatible for merge and will be merged into mkv.\n",
      "WARNING: Unable to extract video title\n",
      "ERROR: This video is unavailable.\n",
      "ERROR: unable to download video data: HTTP Error 404: Not Found\n",
      "WARNING: Requested formats are incompatible for merge and will be merged into mkv.\n",
      "WARNING: Requested formats are incompatible for merge and will be merged into mkv.\n",
      "WARNING: Requested formats are incompatible for merge and will be merged into mkv.\n",
      "WARNING: Unable to extract video title\n",
      "ERROR: This video is unavailable.\n",
      "WARNING: Requested formats are incompatible for merge and will be merged into mkv.\n",
      "WARNING: Requested formats are incompatible for merge and will be merged into mkv.\n",
      "WARNING: Unable to extract video title\n",
      "ERROR: \"【HD】Meryl Davis & Maks - Pe...\" The YouTube account associated with this video has been terminated due to multiple third-party notifications of copyright infringement.\n",
      "ERROR: unable to download video data: HTTP Error 404: Not Found\n",
      "ERROR: unable to download video data: HTTP Error 404: Not Found\n",
      "WARNING: Requested formats are incompatible for merge and will be merged into mkv.\n",
      "ERROR: unable to download video data: HTTP Error 404: Not Found\n",
      "WARNING: Requested formats are incompatible for merge and will be merged into mkv.\n",
      "WARNING: Requested formats are incompatible for merge and will be merged into mkv.\n",
      "ERROR: unable to download video data: HTTP Error 404: Not Found\n",
      "WARNING: Requested formats are incompatible for merge and will be merged into mkv.\n",
      "WARNING: Requested formats are incompatible for merge and will be merged into mkv.\n",
      "WARNING: Requested formats are incompatible for merge and will be merged into mkv.\n",
      "WARNING: Requested formats are incompatible for merge and will be merged into mkv.\n",
      "WARNING: Requested formats are incompatible for merge and will be merged into mkv.\n",
      "WARNING: Requested formats are incompatible for merge and will be merged into mkv.\n",
      "WARNING: Requested formats are incompatible for merge and will be merged into mkv.\n",
      "ERROR: unable to download video data: HTTP Error 404: Not Found\n",
      "ERROR: unable to download video data: HTTP Error 404: Not Found\n",
      "WARNING: Requested formats are incompatible for merge and will be merged into mkv.\n",
      "WARNING: Requested formats are incompatible for merge and will be merged into mkv.\n",
      "WARNING: Requested formats are incompatible for merge and will be merged into mkv.\n",
      "WARNING: Requested formats are incompatible for merge and will be merged into mkv.\n",
      "ERROR: unable to download video data: HTTP Error 404: Not Found\n",
      "ERROR: unable to download video data: HTTP Error 404: Not Found\n",
      "WARNING: Requested formats are incompatible for merge and will be merged into mkv.\n",
      "WARNING: Requested formats are incompatible for merge and will be merged into mkv.\n",
      "WARNING: Requested formats are incompatible for merge and will be merged into mkv.\n",
      "WARNING: Requested formats are incompatible for merge and will be merged into mkv.\n",
      "WARNING: Requested formats are incompatible for merge and will be merged into mkv.\n",
      "WARNING: Requested formats are incompatible for merge and will be merged into mkv.\n",
      "ERROR: unable to download video data: HTTP Error 404: Not Found\n",
      "WARNING: Requested formats are incompatible for merge and will be merged into mkv.\n",
      "ERROR: unable to download video data: HTTP Error 404: Not Found\n",
      "WARNING: Requested formats are incompatible for merge and will be merged into mkv.\n",
      "WARNING: Requested formats are incompatible for merge and will be merged into mkv.\n",
      "WARNING: Requested formats are incompatible for merge and will be merged into mkv.\n",
      "WARNING: Requested formats are incompatible for merge and will be merged into mkv.\n",
      "WARNING: Requested formats are incompatible for merge and will be merged into mkv.\n",
      "WARNING: Requested formats are incompatible for merge and will be merged into mkv.\n",
      "ERROR: unable to download video data: HTTP Error 404: Not Found\n",
      "WARNING: Requested formats are incompatible for merge and will be merged into mkv.\n",
      "WARNING: Requested formats are incompatible for merge and will be merged into mkv.\n",
      "WARNING: Requested formats are incompatible for merge and will be merged into mkv.\n",
      "ERROR: unable to download video data: HTTP Error 404: Not Found\n",
      "WARNING: Requested formats are incompatible for merge and will be merged into mkv.\n",
      "WARNING: Requested formats are incompatible for merge and will be merged into mkv.\n",
      "ERROR: unable to download video data: HTTP Error 404: Not Found\n",
      "ERROR: unable to download video data: HTTP Error 404: Not Found\n",
      "WARNING: Requested formats are incompatible for merge and will be merged into mkv.\n",
      "WARNING: Requested formats are incompatible for merge and will be merged into mkv.\n",
      "WARNING: Unable to extract video title\n",
      "ERROR: This video is unavailable.\n",
      "WARNING: Requested formats are incompatible for merge and will be merged into mkv.\n",
      "WARNING: Requested formats are incompatible for merge and will be merged into mkv.\n",
      "WARNING: Requested formats are incompatible for merge and will be merged into mkv.\n",
      "WARNING: Requested formats are incompatible for merge and will be merged into mkv.\n",
      "WARNING: Unable to extract video title\n",
      "ERROR: This video is unavailable.\n",
      "WARNING: Requested formats are incompatible for merge and will be merged into mkv.\n",
      "ERROR: unable to download video data: HTTP Error 404: Not Found\n",
      "ERROR: unable to download video data: HTTP Error 404: Not Found\n",
      "WARNING: Requested formats are incompatible for merge and will be merged into mkv.\n",
      "WARNING: Unable to extract video title\n",
      "ERROR: This video is unavailable.\n",
      "WARNING: Requested formats are incompatible for merge and will be merged into mkv.\n",
      "WARNING: Requested formats are incompatible for merge and will be merged into mkv.\n",
      "WARNING: Requested formats are incompatible for merge and will be merged into mkv.\n",
      "WARNING: Requested formats are incompatible for merge and will be merged into mkv.\n",
      "ERROR: unable to download video data: HTTP Error 404: Not Found\n",
      "ERROR: unable to download video data: HTTP Error 404: Not Found\n",
      "WARNING: Requested formats are incompatible for merge and will be merged into mkv.\n",
      "ERROR: unable to download video data: HTTP Error 404: Not Found\n",
      "WARNING: Requested formats are incompatible for merge and will be merged into mkv.\n",
      "WARNING: Requested formats are incompatible for merge and will be merged into mkv.\n",
      "WARNING: Requested formats are incompatible for merge and will be merged into mkv.\n",
      "ERROR: unable to download video data: HTTP Error 404: Not Found\n",
      "WARNING: Requested formats are incompatible for merge and will be merged into mkv.\n",
      "WARNING: Requested formats are incompatible for merge and will be merged into mkv.\n",
      "ERROR: unable to download video data: HTTP Error 404: Not Found\n",
      "WARNING: Requested formats are incompatible for merge and will be merged into mkv.\n",
      "WARNING: Requested formats are incompatible for merge and will be merged into mkv.\n",
      "WARNING: Unable to extract video title\n",
      "ERROR: This video is unavailable.\n",
      "WARNING: Requested formats are incompatible for merge and will be merged into mkv.\n",
      "WARNING: Requested formats are incompatible for merge and will be merged into mkv.\n",
      "WARNING: Requested formats are incompatible for merge and will be merged into mkv.\n",
      "WARNING: Requested formats are incompatible for merge and will be merged into mkv.\n",
      "WARNING: Requested formats are incompatible for merge and will be merged into mkv.\n",
      "WARNING: Unable to extract video title\n",
      "ERROR: This video is unavailable.\n",
      "WARNING: Unable to extract video title\n",
      "ERROR: This video is unavailable.\n",
      "WARNING: Unable to extract video title\n",
      "ERROR: This video is no longer available because the YouTube account associated with this video has been terminated.\n",
      "ERROR: unable to download video data: HTTP Error 404: Not Found\n",
      "WARNING: Requested formats are incompatible for merge and will be merged into mkv.\n",
      "ERROR: unable to download video data: HTTP Error 404: Not Found\n",
      "WARNING: Requested formats are incompatible for merge and will be merged into mkv.\n",
      "WARNING: Unable to extract video title\n",
      "ERROR: This video is unavailable.\n",
      "WARNING: Requested formats are incompatible for merge and will be merged into mkv.\n",
      "WARNING: Requested formats are incompatible for merge and will be merged into mkv.\n",
      "WARNING: Requested formats are incompatible for merge and will be merged into mkv.\n",
      "WARNING: Requested formats are incompatible for merge and will be merged into mkv.\n",
      "WARNING: Requested formats are incompatible for merge and will be merged into mkv.\n",
      "WARNING: Requested formats are incompatible for merge and will be merged into mkv.\n",
      "WARNING: Requested formats are incompatible for merge and will be merged into mkv.\n",
      "WARNING: Requested formats are incompatible for merge and will be merged into mkv.\n",
      "WARNING: Requested formats are incompatible for merge and will be merged into mkv.\n",
      "WARNING: Requested formats are incompatible for merge and will be merged into mkv.\n",
      "WARNING: Requested formats are incompatible for merge and will be merged into mkv.\n",
      "WARNING: Requested formats are incompatible for merge and will be merged into mkv.\n",
      "WARNING: Requested formats are incompatible for merge and will be merged into mkv.\n",
      "WARNING: Requested formats are incompatible for merge and will be merged into mkv.\n",
      "ERROR: unable to download video data: HTTP Error 404: Not Found\n",
      "WARNING: Requested formats are incompatible for merge and will be merged into mkv.\n",
      "WARNING: Requested formats are incompatible for merge and will be merged into mkv.\n",
      "WARNING: Requested formats are incompatible for merge and will be merged into mkv.\n",
      "ERROR: unable to download video data: HTTP Error 404: Not Found\n",
      "WARNING: Requested formats are incompatible for merge and will be merged into mkv.\n",
      "ERROR: unable to download video data: HTTP Error 404: Not Found\n",
      "WARNING: Requested formats are incompatible for merge and will be merged into mkv.\n",
      "ERROR: unable to download video data: HTTP Error 404: Not Found\n",
      "WARNING: Unable to extract video title\n",
      "ERROR: This video is unavailable.\n",
      "WARNING: Requested formats are incompatible for merge and will be merged into mkv.\n",
      "WARNING: Requested formats are incompatible for merge and will be merged into mkv.\n",
      "ERROR: unable to download video data: HTTP Error 404: Not Found\n",
      "WARNING: Unable to extract video title\n",
      "ERROR: This video is unavailable.\n",
      "WARNING: Requested formats are incompatible for merge and will be merged into mkv.\n",
      "WARNING: Requested formats are incompatible for merge and will be merged into mkv.\n",
      "WARNING: Requested formats are incompatible for merge and will be merged into mkv.\n",
      "WARNING: Requested formats are incompatible for merge and will be merged into mkv.\n",
      "WARNING: Requested formats are incompatible for merge and will be merged into mkv.\n",
      "WARNING: Requested formats are incompatible for merge and will be merged into mkv.\n",
      "ERROR: unable to download video data: HTTP Error 404: Not Found\n",
      "WARNING: Requested formats are incompatible for merge and will be merged into mkv.\n",
      "ERROR: unable to download video data: HTTP Error 404: Not Found\n",
      "ERROR: unable to download video data: HTTP Error 404: Not Found\n",
      "WARNING: Requested formats are incompatible for merge and will be merged into mkv.\n",
      "WARNING: Requested formats are incompatible for merge and will be merged into mkv.\n",
      "ERROR: unable to download video data: HTTP Error 404: Not Found\n",
      "WARNING: Requested formats are incompatible for merge and will be merged into mkv.\n",
      "WARNING: Requested formats are incompatible for merge and will be merged into mkv.\n",
      "WARNING: Requested formats are incompatible for merge and will be merged into mkv.\n",
      "WARNING: Requested formats are incompatible for merge and will be merged into mkv.\n",
      "WARNING: Requested formats are incompatible for merge and will be merged into mkv.\n",
      "ERROR: unable to download video data: HTTP Error 404: Not Found\n",
      "WARNING: Requested formats are incompatible for merge and will be merged into mkv.\n",
      "ERROR: unable to download video data: HTTP Error 404: Not Found\n",
      "WARNING: Requested formats are incompatible for merge and will be merged into mkv.\n",
      "WARNING: Requested formats are incompatible for merge and will be merged into mkv.\n",
      "WARNING: Unable to extract video title\n",
      "ERROR: This video is no longer available because the YouTube account associated with this video has been terminated.\n",
      "WARNING: Requested formats are incompatible for merge and will be merged into mkv.\n",
      "WARNING: Requested formats are incompatible for merge and will be merged into mkv.\n",
      "ERROR: unable to download video data: HTTP Error 404: Not Found\n",
      "WARNING: Requested formats are incompatible for merge and will be merged into mkv.\n",
      "WARNING: Requested formats are incompatible for merge and will be merged into mkv.\n",
      "WARNING: Unable to extract video title\n",
      "ERROR: This video is unavailable.\n",
      "WARNING: Unable to extract video title\n",
      "ERROR: This video is unavailable.\n",
      "WARNING: Requested formats are incompatible for merge and will be merged into mkv.\n",
      "WARNING: Unable to extract video title\n",
      "ERROR: This video is unavailable.\n",
      "WARNING: Requested formats are incompatible for merge and will be merged into mkv.\n",
      "WARNING: Requested formats are incompatible for merge and will be merged into mkv.\n",
      "WARNING: Requested formats are incompatible for merge and will be merged into mkv.\n",
      "WARNING: Unable to extract video title\n",
      "ERROR: This video is unavailable.\n",
      "WARNING: Requested formats are incompatible for merge and will be merged into mkv.\n",
      "ERROR: unable to download video data: HTTP Error 404: Not Found\n",
      "ERROR: unable to download video data: HTTP Error 404: Not Found\n",
      "ERROR: unable to download video data: HTTP Error 404: Not Found\n",
      "WARNING: Requested formats are incompatible for merge and will be merged into mkv.\n",
      "WARNING: Unable to extract video title\n",
      "ERROR: This video is unavailable.\n",
      "WARNING: Requested formats are incompatible for merge and will be merged into mkv.\n",
      "WARNING: Requested formats are incompatible for merge and will be merged into mkv.\n",
      "WARNING: Requested formats are incompatible for merge and will be merged into mkv.\n",
      "WARNING: Requested formats are incompatible for merge and will be merged into mkv.\n",
      "WARNING: Unable to extract video title\n",
      "ERROR: This video is unavailable.\n",
      "WARNING: Requested formats are incompatible for merge and will be merged into mkv.\n",
      "ERROR: unable to download video data: HTTP Error 404: Not Found\n",
      "WARNING: Requested formats are incompatible for merge and will be merged into mkv.\n",
      "WARNING: Requested formats are incompatible for merge and will be merged into mkv.\n",
      "WARNING: Requested formats are incompatible for merge and will be merged into mkv.\n",
      "WARNING: Requested formats are incompatible for merge and will be merged into mkv.\n",
      "WARNING: Requested formats are incompatible for merge and will be merged into mkv.\n",
      "ERROR: unable to download video data: HTTP Error 404: Not Found\n",
      "WARNING: Requested formats are incompatible for merge and will be merged into mkv.\n",
      "WARNING: Unable to extract video title\n",
      "ERROR: This video is no longer available because the YouTube account associated with this video has been terminated.\n",
      "WARNING: Requested formats are incompatible for merge and will be merged into mkv.\n",
      "WARNING: Requested formats are incompatible for merge and will be merged into mkv.\n",
      "WARNING: Requested formats are incompatible for merge and will be merged into mkv.\n",
      "WARNING: Requested formats are incompatible for merge and will be merged into mkv.\n",
      "WARNING: Requested formats are incompatible for merge and will be merged into mkv.\n",
      "WARNING: Requested formats are incompatible for merge and will be merged into mkv.\n",
      "WARNING: Unable to extract video title\n",
      "ERROR: This video is unavailable.\n",
      "WARNING: Requested formats are incompatible for merge and will be merged into mkv.\n",
      "WARNING: Requested formats are incompatible for merge and will be merged into mkv.\n",
      "WARNING: Requested formats are incompatible for merge and will be merged into mkv.\n",
      "WARNING: Requested formats are incompatible for merge and will be merged into mkv.\n",
      "ERROR: unable to download video data: HTTP Error 403: Forbidden\n",
      "WARNING: Requested formats are incompatible for merge and will be merged into mkv.\n",
      "WARNING: Requested formats are incompatible for merge and will be merged into mkv.\n",
      "ERROR: unable to download video data: HTTP Error 404: Not Found\n",
      "WARNING: Requested formats are incompatible for merge and will be merged into mkv.\n",
      "WARNING: Requested formats are incompatible for merge and will be merged into mkv.\n",
      "WARNING: Requested formats are incompatible for merge and will be merged into mkv.\n",
      "ERROR: unable to download video data: HTTP Error 404: Not Found\n",
      "WARNING: Requested formats are incompatible for merge and will be merged into mkv.\n",
      "WARNING: Requested formats are incompatible for merge and will be merged into mkv.\n",
      "ERROR: unable to download video data: HTTP Error 404: Not Found\n",
      "WARNING: Unable to extract video title\n",
      "ERROR: This video is unavailable.\n",
      "WARNING: Unable to extract video title\n",
      "ERROR: This video is unavailable.\n",
      "WARNING: Requested formats are incompatible for merge and will be merged into mkv.\n",
      "WARNING: Requested formats are incompatible for merge and will be merged into mkv.\n",
      "ERROR: unable to download video data: HTTP Error 404: Not Found\n",
      "WARNING: Requested formats are incompatible for merge and will be merged into mkv.\n",
      "WARNING: Requested formats are incompatible for merge and will be merged into mkv.\n",
      "WARNING: Unable to extract video title\n",
      "ERROR: This video is unavailable.\n",
      "WARNING: Requested formats are incompatible for merge and will be merged into mkv.\n",
      "ERROR: unable to download video data: HTTP Error 404: Not Found\n",
      "WARNING: Requested formats are incompatible for merge and will be merged into mkv.\n",
      "ERROR: unable to download video data: HTTP Error 404: Not Found\n",
      "ERROR: unable to download video data: HTTP Error 404: Not Found\n",
      "ERROR: unable to download video data: HTTP Error 404: Not Found\n",
      "WARNING: Requested formats are incompatible for merge and will be merged into mkv.\n",
      "WARNING: Requested formats are incompatible for merge and will be merged into mkv.\n",
      "ERROR: unable to download video data: HTTP Error 404: Not Found\n",
      "WARNING: Requested formats are incompatible for merge and will be merged into mkv.\n",
      "WARNING: Requested formats are incompatible for merge and will be merged into mkv.\n",
      "WARNING: Requested formats are incompatible for merge and will be merged into mkv.\n",
      "WARNING: Requested formats are incompatible for merge and will be merged into mkv.\n",
      "WARNING: Requested formats are incompatible for merge and will be merged into mkv.\n",
      "WARNING: Requested formats are incompatible for merge and will be merged into mkv.\n",
      "ERROR: unable to download video data: HTTP Error 404: Not Found\n",
      "WARNING: Requested formats are incompatible for merge and will be merged into mkv.\n",
      "WARNING: Requested formats are incompatible for merge and will be merged into mkv.\n",
      "WARNING: Unable to extract video title\n",
      "ERROR: This video is unavailable.\n",
      "WARNING: Requested formats are incompatible for merge and will be merged into mkv.\n",
      "WARNING: Requested formats are incompatible for merge and will be merged into mkv.\n",
      "ERROR: unable to download video data: HTTP Error 404: Not Found\n",
      "WARNING: Requested formats are incompatible for merge and will be merged into mkv.\n",
      "WARNING: Unable to extract video title\n",
      "ERROR: This video is unavailable.\n",
      "WARNING: Requested formats are incompatible for merge and will be merged into mkv.\n",
      "WARNING: Requested formats are incompatible for merge and will be merged into mkv.\n",
      "WARNING: Requested formats are incompatible for merge and will be merged into mkv.\n",
      "WARNING: Requested formats are incompatible for merge and will be merged into mkv.\n",
      "WARNING: Unable to extract video title\n",
      "ERROR: This video is unavailable.\n",
      "WARNING: Unable to extract video title\n",
      "ERROR: This video is unavailable.\n",
      "WARNING: Requested formats are incompatible for merge and will be merged into mkv.\n",
      "ERROR: unable to download video data: HTTP Error 404: Not Found\n",
      "WARNING: Requested formats are incompatible for merge and will be merged into mkv.\n",
      "WARNING: Requested formats are incompatible for merge and will be merged into mkv.\n",
      "WARNING: Requested formats are incompatible for merge and will be merged into mkv.\n",
      "WARNING: Unable to extract video title\n",
      "ERROR: This video is unavailable.\n",
      "WARNING: Requested formats are incompatible for merge and will be merged into mkv.\n",
      "ERROR: unable to download video data: HTTP Error 404: Not Found\n",
      "WARNING: Requested formats are incompatible for merge and will be merged into mkv.\n",
      "WARNING: Requested formats are incompatible for merge and will be merged into mkv.\n",
      "WARNING: Requested formats are incompatible for merge and will be merged into mkv.\n",
      "WARNING: Requested formats are incompatible for merge and will be merged into mkv.\n",
      "WARNING: Requested formats are incompatible for merge and will be merged into mkv.\n",
      "WARNING: Requested formats are incompatible for merge and will be merged into mkv.\n",
      "ERROR: unable to download video data: HTTP Error 404: Not Found\n",
      "WARNING: Requested formats are incompatible for merge and will be merged into mkv.\n",
      "WARNING: Requested formats are incompatible for merge and will be merged into mkv.\n",
      "ERROR: unable to download video data: HTTP Error 404: Not Found\n",
      "WARNING: Unable to extract video title\n",
      "ERROR: This video is unavailable.\n",
      "ERROR: unable to download video data: HTTP Error 404: Not Found\n",
      "ERROR: unable to download video data: HTTP Error 404: Not Found\n",
      "WARNING: Requested formats are incompatible for merge and will be merged into mkv.\n",
      "ERROR: unable to download video data: HTTP Error 403: Forbidden\n",
      "WARNING: Unable to extract video title\n",
      "ERROR: This video is no longer available because the YouTube account associated with this video has been terminated.\n",
      "WARNING: Unable to extract video title\n",
      "ERROR: \"Dutch Glow Amish Wood Milk ...\" The YouTube account associated with this video has been terminated due to multiple third-party notifications of copyright infringement.\n",
      "WARNING: Unable to extract video title\n",
      "ERROR: This video is unavailable.\n",
      "WARNING: Requested formats are incompatible for merge and will be merged into mkv.\n",
      "WARNING: Requested formats are incompatible for merge and will be merged into mkv.\n",
      "WARNING: Requested formats are incompatible for merge and will be merged into mkv.\n",
      "WARNING: Requested formats are incompatible for merge and will be merged into mkv.\n",
      "WARNING: Requested formats are incompatible for merge and will be merged into mkv.\n",
      "WARNING: Unable to extract video title\n",
      "ERROR: This video is no longer available because the YouTube account associated with this video has been terminated.\n",
      "WARNING: Requested formats are incompatible for merge and will be merged into mkv.\n",
      "WARNING: Requested formats are incompatible for merge and will be merged into mkv.\n",
      "WARNING: Requested formats are incompatible for merge and will be merged into mkv.\n",
      "WARNING: Requested formats are incompatible for merge and will be merged into mkv.\n",
      "WARNING: Requested formats are incompatible for merge and will be merged into mkv.\n",
      "WARNING: Requested formats are incompatible for merge and will be merged into mkv.\n",
      "WARNING: Unable to extract video title\n",
      "ERROR: This video is unavailable.\n",
      "ERROR: unable to download video data: HTTP Error 404: Not Found\n",
      "WARNING: Requested formats are incompatible for merge and will be merged into mkv.\n",
      "WARNING: Requested formats are incompatible for merge and will be merged into mkv.\n",
      "ERROR: unable to download video data: HTTP Error 404: Not Found\n",
      "WARNING: Requested formats are incompatible for merge and will be merged into mkv.\n",
      "WARNING: Unable to extract video title\n",
      "ERROR: \"Sandu playi...\" The YouTube account associated with this video has been terminated due to multiple third-party notifications of copyright infringement.\n",
      "WARNING: Unable to extract video title\n",
      "ERROR: This video is unavailable.\n",
      "WARNING: Requested formats are incompatible for merge and will be merged into mkv.\n",
      "ERROR: unable to download video data: HTTP Error 404: Not Found\n",
      "WARNING: Requested formats are incompatible for merge and will be merged into mkv.\n",
      "WARNING: Unable to extract video title\n",
      "ERROR: This video is unavailable.\n",
      "WARNING: Requested formats are incompatible for merge and will be merged into mkv.\n",
      "WARNING: Requested formats are incompatible for merge and will be merged into mkv.\n",
      "WARNING: Requested formats are incompatible for merge and will be merged into mkv.\n",
      "ERROR: unable to download video data: HTTP Error 404: Not Found\n",
      "WARNING: Unable to extract video title\n",
      "ERROR: This video is unavailable.\n",
      "WARNING: Requested formats are incompatible for merge and will be merged into mkv.\n",
      "ERROR: unable to download video data: HTTP Error 404: Not Found\n",
      "WARNING: Requested formats are incompatible for merge and will be merged into mkv.\n",
      "ERROR: unable to download video data: HTTP Error 404: Not Found\n",
      "WARNING: Unable to extract video title\n",
      "ERROR: This video is no longer available because the YouTube account associated with this video has been terminated.\n",
      "WARNING: Unable to extract video title\n",
      "ERROR: This video is unavailable.\n",
      "WARNING: Requested formats are incompatible for merge and will be merged into mkv.\n",
      "ERROR: unable to download video data: HTTP Error 404: Not Found\n",
      "WARNING: Requested formats are incompatible for merge and will be merged into mkv.\n",
      "WARNING: Requested formats are incompatible for merge and will be merged into mkv.\n",
      "WARNING: Requested formats are incompatible for merge and will be merged into mkv.\n",
      "WARNING: Requested formats are incompatible for merge and will be merged into mkv.\n",
      "WARNING: Requested formats are incompatible for merge and will be merged into mkv.\n",
      "WARNING: Requested formats are incompatible for merge and will be merged into mkv.\n",
      "WARNING: Unable to extract video title\n",
      "ERROR: This video is unavailable.\n",
      "WARNING: Requested formats are incompatible for merge and will be merged into mkv.\n",
      "ERROR: unable to download video data: HTTP Error 404: Not Found\n",
      "WARNING: Requested formats are incompatible for merge and will be merged into mkv.\n",
      "ERROR: unable to download video data: HTTP Error 404: Not Found\n",
      "WARNING: Requested formats are incompatible for merge and will be merged into mkv.\n",
      "ERROR: unable to download video data: HTTP Error 404: Not Found\n",
      "WARNING: Requested formats are incompatible for merge and will be merged into mkv.\n",
      "ERROR: unable to download video data: HTTP Error 404: Not Found\n",
      "WARNING: Requested formats are incompatible for merge and will be merged into mkv.\n",
      "WARNING: Requested formats are incompatible for merge and will be merged into mkv.\n",
      "ERROR: unable to download video data: HTTP Error 404: Not Found\n",
      "WARNING: Requested formats are incompatible for merge and will be merged into mkv.\n",
      "WARNING: Requested formats are incompatible for merge and will be merged into mkv.\n",
      "WARNING: Requested formats are incompatible for merge and will be merged into mkv.\n",
      "ERROR: unable to download video data: HTTP Error 404: Not Found\n",
      "WARNING: Requested formats are incompatible for merge and will be merged into mkv.\n",
      "WARNING: Unable to extract video title\n",
      "ERROR: This video is unavailable.\n",
      "WARNING: Unable to extract video title\n",
      "ERROR: This video is unavailable.\n",
      "WARNING: Unable to extract video title\n",
      "ERROR: This video is no longer available because the YouTube account associated with this video has been terminated.\n",
      "WARNING: Requested formats are incompatible for merge and will be merged into mkv.\n",
      "ERROR: unable to download video data: HTTP Error 404: Not Found\n",
      "WARNING: Requested formats are incompatible for merge and will be merged into mkv.\n",
      "ERROR: unable to download video data: HTTP Error 404: Not Found\n",
      "WARNING: Unable to extract video title\n",
      "ERROR: This video is unavailable.\n",
      "WARNING: Requested formats are incompatible for merge and will be merged into mkv.\n",
      "WARNING: Requested formats are incompatible for merge and will be merged into mkv.\n",
      "WARNING: Unable to extract video title\n",
      "ERROR: This video is unavailable.\n",
      "WARNING: Requested formats are incompatible for merge and will be merged into mkv.\n",
      "WARNING: Requested formats are incompatible for merge and will be merged into mkv.\n",
      "WARNING: Requested formats are incompatible for merge and will be merged into mkv.\n",
      "ERROR: unable to download video data: HTTP Error 404: Not Found\n",
      "WARNING: Requested formats are incompatible for merge and will be merged into mkv.\n",
      "WARNING: Requested formats are incompatible for merge and will be merged into mkv.\n",
      "WARNING: Unable to extract video title\n",
      "ERROR: This video is unavailable.\n",
      "WARNING: Unable to extract video title\n",
      "ERROR: This video is unavailable.\n",
      "WARNING: Requested formats are incompatible for merge and will be merged into mkv.\n",
      "WARNING: Requested formats are incompatible for merge and will be merged into mkv.\n",
      "WARNING: Unable to extract video title\n",
      "ERROR: This video is unavailable.\n",
      "ERROR: unable to download video data: HTTP Error 404: Not Found\n",
      "WARNING: Requested formats are incompatible for merge and will be merged into mkv.\n",
      "WARNING: Requested formats are incompatible for merge and will be merged into mkv.\n",
      "WARNING: Requested formats are incompatible for merge and will be merged into mkv.\n",
      "WARNING: Requested formats are incompatible for merge and will be merged into mkv.\n",
      "WARNING: Requested formats are incompatible for merge and will be merged into mkv.\n",
      "ERROR: unable to download video data: HTTP Error 404: Not Found\n",
      "WARNING: Requested formats are incompatible for merge and will be merged into mkv.\n",
      "WARNING: Requested formats are incompatible for merge and will be merged into mkv.\n",
      "WARNING: Requested formats are incompatible for merge and will be merged into mkv.\n",
      "WARNING: Requested formats are incompatible for merge and will be merged into mkv.\n",
      "ERROR: unable to download video data: HTTP Error 404: Not Found\n",
      "WARNING: Requested formats are incompatible for merge and will be merged into mkv.\n",
      "ERROR: unable to download video data: HTTP Error 404: Not Found\n",
      "WARNING: Requested formats are incompatible for merge and will be merged into mkv.\n",
      "WARNING: Unable to extract video title\n",
      "ERROR: This video is unavailable.\n",
      "WARNING: Unable to extract video title\n",
      "ERROR: This video is unavailable.\n",
      "WARNING: Requested formats are incompatible for merge and will be merged into mkv.\n",
      "WARNING: Requested formats are incompatible for merge and will be merged into mkv.\n",
      "ERROR: unable to download video data: HTTP Error 404: Not Found\n",
      "WARNING: Requested formats are incompatible for merge and will be merged into mkv.\n",
      "WARNING: Requested formats are incompatible for merge and will be merged into mkv.\n",
      "WARNING: Requested formats are incompatible for merge and will be merged into mkv.\n",
      "ERROR: unable to download video data: HTTP Error 404: Not Found\n",
      "WARNING: Unable to extract video title\n",
      "ERROR: This video is unavailable.\n",
      "WARNING: Requested formats are incompatible for merge and will be merged into mkv.\n",
      "ERROR: unable to download video data: HTTP Error 404: Not Found\n",
      "WARNING: Requested formats are incompatible for merge and will be merged into mkv.\n",
      "WARNING: Requested formats are incompatible for merge and will be merged into mkv.\n",
      "WARNING: Requested formats are incompatible for merge and will be merged into mkv.\n",
      "WARNING: Requested formats are incompatible for merge and will be merged into mkv.\n",
      "WARNING: Requested formats are incompatible for merge and will be merged into mkv.\n",
      "WARNING: Requested formats are incompatible for merge and will be merged into mkv.\n",
      "WARNING: Requested formats are incompatible for merge and will be merged into mkv.\n",
      "WARNING: Requested formats are incompatible for merge and will be merged into mkv.\n",
      "WARNING: Unable to extract video title\n",
      "ERROR: This video is unavailable.\n",
      "WARNING: Requested formats are incompatible for merge and will be merged into mkv.\n",
      "WARNING: Requested formats are incompatible for merge and will be merged into mkv.\n",
      "ERROR: unable to download video data: HTTP Error 404: Not Found\n",
      "WARNING: Requested formats are incompatible for merge and will be merged into mkv.\n",
      "WARNING: Requested formats are incompatible for merge and will be merged into mkv.\n",
      "ERROR: unable to download video data: HTTP Error 404: Not Found\n",
      "WARNING: Requested formats are incompatible for merge and will be merged into mkv.\n",
      "WARNING: Requested formats are incompatible for merge and will be merged into mkv.\n",
      "ERROR: unable to download video data: HTTP Error 404: Not Found\n",
      "WARNING: Requested formats are incompatible for merge and will be merged into mkv.\n",
      "WARNING: Unable to extract video title\n",
      "ERROR: This video is unavailable.\n",
      "WARNING: Requested formats are incompatible for merge and will be merged into mkv.\n",
      "WARNING: Requested formats are incompatible for merge and will be merged into mkv.\n",
      "WARNING: Requested formats are incompatible for merge and will be merged into mkv.\n",
      "ERROR: unable to download video data: HTTP Error 404: Not Found\n",
      "WARNING: Unable to extract video title\n",
      "ERROR: This video is unavailable.\n",
      "WARNING: Requested formats are incompatible for merge and will be merged into mkv.\n",
      "WARNING: Requested formats are incompatible for merge and will be merged into mkv.\n",
      "ERROR: unable to download video data: HTTP Error 404: Not Found\n",
      "WARNING: Requested formats are incompatible for merge and will be merged into mkv.\n",
      "ERROR: unable to download video data: HTTP Error 404: Not Found\n",
      "WARNING: Requested formats are incompatible for merge and will be merged into mkv.\n",
      "WARNING: Requested formats are incompatible for merge and will be merged into mkv.\n",
      "WARNING: Requested formats are incompatible for merge and will be merged into mkv.\n",
      "WARNING: Requested formats are incompatible for merge and will be merged into mkv.\n",
      "WARNING: Unable to extract video title\n",
      "ERROR: This video is unavailable.\n",
      "WARNING: Requested formats are incompatible for merge and will be merged into mkv.\n",
      "WARNING: Requested formats are incompatible for merge and will be merged into mkv.\n",
      "ERROR: unable to download video data: HTTP Error 404: Not Found\n",
      "WARNING: Requested formats are incompatible for merge and will be merged into mkv.\n",
      "WARNING: Requested formats are incompatible for merge and will be merged into mkv.\n",
      "ERROR: unable to download video data: HTTP Error 404: Not Found\n",
      "WARNING: Requested formats are incompatible for merge and will be merged into mkv.\n",
      "WARNING: Requested formats are incompatible for merge and will be merged into mkv.\n",
      "ERROR: unable to download video data: HTTP Error 404: Not Found\n",
      "WARNING: Requested formats are incompatible for merge and will be merged into mkv.\n",
      "WARNING: Unable to extract video title\n",
      "ERROR: This video is unavailable.\n",
      "ERROR: This video contains content from SME, who has blocked it in your country on copyright grounds.\n",
      "WARNING: Requested formats are incompatible for merge and will be merged into mkv.\n",
      "ERROR: unable to download video data: HTTP Error 404: Not Found\n",
      "WARNING: Requested formats are incompatible for merge and will be merged into mkv.\n",
      "ERROR: unable to download video data: HTTP Error 404: Not Found\n",
      "WARNING: Requested formats are incompatible for merge and will be merged into mkv.\n",
      "WARNING: Requested formats are incompatible for merge and will be merged into mkv.\n",
      "WARNING: Requested formats are incompatible for merge and will be merged into mkv.\n",
      "ERROR: unable to download video data: HTTP Error 404: Not Found\n",
      "WARNING: Requested formats are incompatible for merge and will be merged into mkv.\n",
      "WARNING: Requested formats are incompatible for merge and will be merged into mkv.\n",
      "WARNING: Requested formats are incompatible for merge and will be merged into mkv.\n",
      "WARNING: Unable to extract video title\n",
      "ERROR: This video is unavailable.\n",
      "WARNING: Requested formats are incompatible for merge and will be merged into mkv.\n",
      "WARNING: Requested formats are incompatible for merge and will be merged into mkv.\n",
      "WARNING: Requested formats are incompatible for merge and will be merged into mkv.\n",
      "WARNING: Requested formats are incompatible for merge and will be merged into mkv.\n",
      "WARNING: Requested formats are incompatible for merge and will be merged into mkv.\n",
      "ERROR: unable to download video data: HTTP Error 404: Not Found\n",
      "ERROR: unable to download video data: HTTP Error 404: Not Found\n",
      "WARNING: Requested formats are incompatible for merge and will be merged into mkv.\n",
      "WARNING: Unable to extract video title\n",
      "ERROR: This video is unavailable.\n",
      "ERROR: unable to download video data: HTTP Error 404: Not Found\n",
      "WARNING: Requested formats are incompatible for merge and will be merged into mkv.\n",
      "WARNING: Requested formats are incompatible for merge and will be merged into mkv.\n",
      "WARNING: Requested formats are incompatible for merge and will be merged into mkv.\n",
      "WARNING: Unable to extract video title\n",
      "ERROR: This video is unavailable.\n",
      "WARNING: Requested formats are incompatible for merge and will be merged into mkv.\n",
      "WARNING: Requested formats are incompatible for merge and will be merged into mkv.\n",
      "ERROR: unable to download video data: HTTP Error 404: Not Found\n",
      "WARNING: Requested formats are incompatible for merge and will be merged into mkv.\n",
      "ERROR: unable to download video data: HTTP Error 404: Not Found\n",
      "ERROR: unable to download video data: HTTP Error 404: Not Found\n",
      "WARNING: Requested formats are incompatible for merge and will be merged into mkv.\n",
      "WARNING: Requested formats are incompatible for merge and will be merged into mkv.\n",
      "WARNING: Requested formats are incompatible for merge and will be merged into mkv.\n",
      "WARNING: Requested formats are incompatible for merge and will be merged into mkv.\n",
      "WARNING: Requested formats are incompatible for merge and will be merged into mkv.\n",
      "ERROR: unable to download video data: HTTP Error 404: Not Found\n",
      "ERROR: unable to download video data: HTTP Error 404: Not Found\n",
      "WARNING: Requested formats are incompatible for merge and will be merged into mkv.\n",
      "WARNING: Requested formats are incompatible for merge and will be merged into mkv.\n",
      "WARNING: Requested formats are incompatible for merge and will be merged into mkv.\n",
      "ERROR: unable to download video data: HTTP Error 404: Not Found\n",
      "WARNING: Requested formats are incompatible for merge and will be merged into mkv.\n",
      "ERROR: unable to download video data: HTTP Error 404: Not Found\n",
      "WARNING: Requested formats are incompatible for merge and will be merged into mkv.\n",
      "WARNING: Requested formats are incompatible for merge and will be merged into mkv.\n",
      "WARNING: Requested formats are incompatible for merge and will be merged into mkv.\n",
      "WARNING: Unable to extract video title\n",
      "ERROR: \"Chellsie Memmel UB 2008...\" The YouTube account associated with this video has been terminated due to multiple third-party notifications of copyright infringement.\n",
      "WARNING: Unable to extract video title\n",
      "ERROR: This video is unavailable.\n",
      "ERROR: unable to download video data: HTTP Error 404: Not Found\n",
      "ERROR: unable to download video data: HTTP Error 404: Not Found\n",
      "WARNING: Requested formats are incompatible for merge and will be merged into mkv.\n",
      "WARNING: Requested formats are incompatible for merge and will be merged into mkv.\n",
      "WARNING: Requested formats are incompatible for merge and will be merged into mkv.\n",
      "ERROR: unable to download video data: HTTP Error 404: Not Found\n",
      "WARNING: Requested formats are incompatible for merge and will be merged into mkv.\n",
      "ERROR: unable to download video data: HTTP Error 404: Not Found\n",
      "WARNING: Unable to extract video title\n",
      "ERROR: This video is unavailable.\n",
      "WARNING: Requested formats are incompatible for merge and will be merged into mkv.\n",
      "ERROR: unable to download video data: HTTP Error 404: Not Found\n",
      "WARNING: Requested formats are incompatible for merge and will be merged into mkv.\n",
      "WARNING: Requested formats are incompatible for merge and will be merged into mkv.\n",
      "WARNING: Requested formats are incompatible for merge and will be merged into mkv.\n",
      "WARNING: Requested formats are incompatible for merge and will be merged into mkv.\n",
      "ERROR: unable to download video data: HTTP Error 404: Not Found\n",
      "WARNING: Requested formats are incompatible for merge and will be merged into mkv.\n",
      "WARNING: Unable to extract video title\n",
      "ERROR: This video is unavailable.\n",
      "WARNING: Requested formats are incompatible for merge and will be merged into mkv.\n",
      "WARNING: Requested formats are incompatible for merge and will be merged into mkv.\n",
      "WARNING: Requested formats are incompatible for merge and will be merged into mkv.\n",
      "ERROR: unable to download video data: HTTP Error 404: Not Found\n",
      "WARNING: Requested formats are incompatible for merge and will be merged into mkv.\n",
      "ERROR: unable to download video data: HTTP Error 404: Not Found\n",
      "WARNING: Requested formats are incompatible for merge and will be merged into mkv.\n",
      "WARNING: Unable to extract video title\n",
      "ERROR: This video is unavailable.\n",
      "WARNING: Requested formats are incompatible for merge and will be merged into mkv.\n",
      "WARNING: Requested formats are incompatible for merge and will be merged into mkv.\n",
      "WARNING: Requested formats are incompatible for merge and will be merged into mkv.\n",
      "WARNING: Unable to extract video title\n",
      "ERROR: This video is unavailable.\n",
      "WARNING: Requested formats are incompatible for merge and will be merged into mkv.\n",
      "WARNING: Requested formats are incompatible for merge and will be merged into mkv.\n",
      "WARNING: Requested formats are incompatible for merge and will be merged into mkv.\n",
      "ERROR: unable to download video data: HTTP Error 404: Not Found\n",
      "WARNING: Requested formats are incompatible for merge and will be merged into mkv.\n",
      "WARNING: Requested formats are incompatible for merge and will be merged into mkv.\n",
      "WARNING: Requested formats are incompatible for merge and will be merged into mkv.\n",
      "WARNING: Requested formats are incompatible for merge and will be merged into mkv.\n",
      "WARNING: Requested formats are incompatible for merge and will be merged into mkv.\n",
      "WARNING: Requested formats are incompatible for merge and will be merged into mkv.\n",
      "WARNING: Requested formats are incompatible for merge and will be merged into mkv.\n",
      "ERROR: unable to download video data: HTTP Error 404: Not Found\n",
      "WARNING: Requested formats are incompatible for merge and will be merged into mkv.\n",
      "ERROR: unable to download video data: HTTP Error 404: Not Found\n",
      "WARNING: Requested formats are incompatible for merge and will be merged into mkv.\n",
      "WARNING: Requested formats are incompatible for merge and will be merged into mkv.\n",
      "ERROR: unable to download video data: HTTP Error 404: Not Found\n",
      "WARNING: Requested formats are incompatible for merge and will be merged into mkv.\n",
      "ERROR: unable to download video data: HTTP Error 404: Not Found\n",
      "ERROR: unable to download video data: HTTP Error 404: Not Found\n",
      "WARNING: Requested formats are incompatible for merge and will be merged into mkv.\n",
      "WARNING: Requested formats are incompatible for merge and will be merged into mkv.\n",
      "WARNING: Requested formats are incompatible for merge and will be merged into mkv.\n",
      "WARNING: Requested formats are incompatible for merge and will be merged into mkv.\n",
      "ERROR: unable to download video data: HTTP Error 404: Not Found\n",
      "WARNING: Unable to extract video title\n",
      "ERROR: This video is unavailable.\n",
      "WARNING: Requested formats are incompatible for merge and will be merged into mkv.\n",
      "WARNING: Unable to extract video title\n",
      "ERROR: This video is unavailable.\n",
      "WARNING: Requested formats are incompatible for merge and will be merged into mkv.\n",
      "WARNING: Requested formats are incompatible for merge and will be merged into mkv.\n",
      "ERROR: unable to download video data: HTTP Error 404: Not Found\n",
      "ERROR: unable to download video data: HTTP Error 404: Not Found\n",
      "WARNING: Requested formats are incompatible for merge and will be merged into mkv.\n",
      "WARNING: Requested formats are incompatible for merge and will be merged into mkv.\n",
      "WARNING: Requested formats are incompatible for merge and will be merged into mkv.\n",
      "WARNING: Requested formats are incompatible for merge and will be merged into mkv.\n",
      "ERROR: unable to download video data: HTTP Error 404: Not Found\n",
      "WARNING: Unable to extract video title\n",
      "ERROR: This video is unavailable.\n",
      "WARNING: Requested formats are incompatible for merge and will be merged into mkv.\n",
      "WARNING: Unable to extract video title\n",
      "ERROR: This video is unavailable.\n",
      "WARNING: Requested formats are incompatible for merge and will be merged into mkv.\n",
      "WARNING: Requested formats are incompatible for merge and will be merged into mkv.\n",
      "WARNING: Requested formats are incompatible for merge and will be merged into mkv.\n",
      "WARNING: Requested formats are incompatible for merge and will be merged into mkv.\n",
      "ERROR: unable to download video data: HTTP Error 404: Not Found\n",
      "WARNING: Unable to extract video title\n",
      "ERROR: This video is unavailable.\n",
      "ERROR: unable to download video data: HTTP Error 404: Not Found\n",
      "WARNING: Requested formats are incompatible for merge and will be merged into mkv.\n",
      "ERROR: unable to download video data: HTTP Error 404: Not Found\n",
      "WARNING: Unable to extract video title\n",
      "ERROR: This video is unavailable.\n",
      "WARNING: Requested formats are incompatible for merge and will be merged into mkv.\n",
      "WARNING: Requested formats are incompatible for merge and will be merged into mkv.\n",
      "ERROR: unable to download video data: HTTP Error 404: Not Found\n",
      "WARNING: Requested formats are incompatible for merge and will be merged into mkv.\n",
      "WARNING: Requested formats are incompatible for merge and will be merged into mkv.\n",
      "WARNING: Requested formats are incompatible for merge and will be merged into mkv.\n",
      "ERROR: unable to download video data: HTTP Error 404: Not Found\n",
      "WARNING: Requested formats are incompatible for merge and will be merged into mkv.\n",
      "WARNING: Unable to extract video title\n",
      "ERROR: This video is unavailable.\n",
      "ERROR: unable to download video data: HTTP Error 404: Not Found\n",
      "WARNING: Requested formats are incompatible for merge and will be merged into mkv.\n",
      "WARNING: Requested formats are incompatible for merge and will be merged into mkv.\n",
      "WARNING: Requested formats are incompatible for merge and will be merged into mkv.\n",
      "WARNING: Unable to extract video title\n",
      "ERROR: This video is unavailable.\n",
      "WARNING: Requested formats are incompatible for merge and will be merged into mkv.\n",
      "WARNING: Requested formats are incompatible for merge and will be merged into mkv.\n",
      "WARNING: Requested formats are incompatible for merge and will be merged into mkv.\n",
      "WARNING: Requested formats are incompatible for merge and will be merged into mkv.\n",
      "ERROR: unable to download video data: HTTP Error 404: Not Found\n",
      "WARNING: Unable to extract video title\n",
      "ERROR: This video is unavailable.\n",
      "WARNING: Requested formats are incompatible for merge and will be merged into mkv.\n",
      "WARNING: Requested formats are incompatible for merge and will be merged into mkv.\n",
      "ERROR: unable to download video data: HTTP Error 404: Not Found\n",
      "ERROR: unable to download video data: HTTP Error 403: Forbidden\n",
      "WARNING: Requested formats are incompatible for merge and will be merged into mkv.\n",
      "WARNING: Unable to extract video title\n",
      "ERROR: This video is unavailable.\n",
      "WARNING: Requested formats are incompatible for merge and will be merged into mkv.\n",
      "WARNING: Requested formats are incompatible for merge and will be merged into mkv.\n",
      "WARNING: Requested formats are incompatible for merge and will be merged into mkv.\n",
      "ERROR: unable to download video data: HTTP Error 404: Not Found\n",
      "WARNING: Requested formats are incompatible for merge and will be merged into mkv.\n",
      "WARNING: Unable to extract video title\n",
      "ERROR: This video is unavailable.\n",
      "ERROR: unable to download video data: HTTP Error 404: Not Found\n",
      "ERROR: unable to download video data: HTTP Error 404: Not Found\n",
      "WARNING: Unable to extract video title\n",
      "ERROR: This video is unavailable.\n",
      "WARNING: Requested formats are incompatible for merge and will be merged into mkv.\n",
      "ERROR: unable to download video data: HTTP Error 404: Not Found\n",
      "WARNING: Requested formats are incompatible for merge and will be merged into mkv.\n",
      "WARNING: Requested formats are incompatible for merge and will be merged into mkv.\n",
      "WARNING: Requested formats are incompatible for merge and will be merged into mkv.\n",
      "WARNING: Requested formats are incompatible for merge and will be merged into mkv.\n",
      "WARNING: Requested formats are incompatible for merge and will be merged into mkv.\n",
      "WARNING: Requested formats are incompatible for merge and will be merged into mkv.\n",
      "WARNING: Requested formats are incompatible for merge and will be merged into mkv.\n",
      "ERROR: unable to download video data: HTTP Error 404: Not Found\n",
      "WARNING: Unable to extract video title\n",
      "ERROR: This video is unavailable.\n",
      "WARNING: Requested formats are incompatible for merge and will be merged into mkv.\n",
      "WARNING: Requested formats are incompatible for merge and will be merged into mkv.\n",
      "WARNING: Unable to extract video title\n",
      "ERROR: This video is unavailable.\n",
      "ERROR: unable to download video data: HTTP Error 404: Not Found\n",
      "WARNING: Requested formats are incompatible for merge and will be merged into mkv.\n",
      "WARNING: Requested formats are incompatible for merge and will be merged into mkv.\n",
      "WARNING: Unable to extract video title\n",
      "ERROR: This video is unavailable.\n",
      "WARNING: Requested formats are incompatible for merge and will be merged into mkv.\n",
      "WARNING: Requested formats are incompatible for merge and will be merged into mkv.\n",
      "WARNING: Requested formats are incompatible for merge and will be merged into mkv.\n",
      "WARNING: Requested formats are incompatible for merge and will be merged into mkv.\n",
      "ERROR: unable to download video data: HTTP Error 404: Not Found\n",
      "WARNING: Requested formats are incompatible for merge and will be merged into mkv.\n",
      "WARNING: Requested formats are incompatible for merge and will be merged into mkv.\n",
      "WARNING: Requested formats are incompatible for merge and will be merged into mkv.\n",
      "ERROR: unable to download video data: HTTP Error 404: Not Found\n",
      "WARNING: Requested formats are incompatible for merge and will be merged into mkv.\n",
      "ERROR: unable to download video data: HTTP Error 404: Not Found\n",
      "WARNING: Requested formats are incompatible for merge and will be merged into mkv.\n",
      "WARNING: Requested formats are incompatible for merge and will be merged into mkv.\n",
      "ERROR: unable to download video data: HTTP Error 404: Not Found\n",
      "ERROR: unable to download video data: HTTP Error 404: Not Found\n",
      "WARNING: Requested formats are incompatible for merge and will be merged into mkv.\n",
      "WARNING: Requested formats are incompatible for merge and will be merged into mkv.\n",
      "WARNING: Requested formats are incompatible for merge and will be merged into mkv.\n",
      "ERROR: unable to download video data: HTTP Error 404: Not Found\n",
      "WARNING: Requested formats are incompatible for merge and will be merged into mkv.\n",
      "WARNING: Requested formats are incompatible for merge and will be merged into mkv.\n",
      "ERROR: unable to download video data: HTTP Error 404: Not Found\n",
      "WARNING: Requested formats are incompatible for merge and will be merged into mkv.\n",
      "WARNING: Unable to extract video title\n",
      "ERROR: This video is no longer available because the YouTube account associated with this video has been terminated.\n",
      "WARNING: Requested formats are incompatible for merge and will be merged into mkv.\n",
      "ERROR: unable to download video data: HTTP Error 404: Not Found\n",
      "WARNING: Unable to extract video title\n",
      "ERROR: This video is unavailable.\n",
      "ERROR: unable to download video data: HTTP Error 404: Not Found\n",
      "WARNING: Requested formats are incompatible for merge and will be merged into mkv.\n",
      "WARNING: Unable to extract video title\n",
      "ERROR: This video is unavailable.\n",
      "WARNING: Requested formats are incompatible for merge and will be merged into mkv.\n",
      "WARNING: Requested formats are incompatible for merge and will be merged into mkv.\n",
      "WARNING: Unable to extract video title\n",
      "ERROR: \"Amazing Russian Street Perf...\" The YouTube account associated with this video has been terminated due to multiple third-party notifications of copyright infringement.\n",
      "WARNING: Unable to extract video title\n",
      "ERROR: This video is unavailable.\n",
      "WARNING: Unable to extract video title\n",
      "ERROR: This video is unavailable.\n",
      "WARNING: Requested formats are incompatible for merge and will be merged into mkv.\n",
      "ERROR: unable to download video data: HTTP Error 404: Not Found\n",
      "WARNING: Requested formats are incompatible for merge and will be merged into mkv.\n",
      "WARNING: Unable to extract video title\n",
      "ERROR: This video is unavailable.\n",
      "WARNING: Requested formats are incompatible for merge and will be merged into mkv.\n",
      "WARNING: Requested formats are incompatible for merge and will be merged into mkv.\n",
      "ERROR: giving up after 0 retries\n",
      "WARNING: Requested formats are incompatible for merge and will be merged into mkv.\n",
      "ERROR: unable to download video data: HTTP Error 404: Not Found\n",
      "WARNING: Requested formats are incompatible for merge and will be merged into mkv.\n",
      "WARNING: Requested formats are incompatible for merge and will be merged into mkv.\n",
      "ERROR: unable to download video data: HTTP Error 404: Not Found\n",
      "WARNING: Requested formats are incompatible for merge and will be merged into mkv.\n",
      "WARNING: Requested formats are incompatible for merge and will be merged into mkv.\n",
      "WARNING: Requested formats are incompatible for merge and will be merged into mkv.\n",
      "WARNING: Requested formats are incompatible for merge and will be merged into mkv.\n",
      "ERROR: unable to download video data: HTTP Error 404: Not Found\n",
      "WARNING: Requested formats are incompatible for merge and will be merged into mkv.\n",
      "WARNING: Unable to extract video title\n",
      "ERROR: This video is unavailable.\n",
      "ERROR: unable to download video data: HTTP Error 404: Not Found\n",
      "WARNING: Requested formats are incompatible for merge and will be merged into mkv.\n",
      "WARNING: Unable to extract video title\n",
      "ERROR: \"[BAD USER] Fails...\" The YouTube account associated with this video has been terminated due to multiple third-party notifications of copyright infringement.\n",
      "WARNING: Requested formats are incompatible for merge and will be merged into mkv.\n",
      "WARNING: Requested formats are incompatible for merge and will be merged into mkv.\n",
      "WARNING: Requested formats are incompatible for merge and will be merged into mkv.\n",
      "ERROR: unable to download video data: HTTP Error 404: Not Found\n",
      "ERROR: unable to download video data: HTTP Error 404: Not Found\n",
      "WARNING: Requested formats are incompatible for merge and will be merged into mkv.\n",
      "WARNING: Requested formats are incompatible for merge and will be merged into mkv.\n",
      "WARNING: Unable to extract video title\n",
      "ERROR: This video is unavailable.\n",
      "WARNING: Requested formats are incompatible for merge and will be merged into mkv.\n",
      "WARNING: Requested formats are incompatible for merge and will be merged into mkv.\n",
      "WARNING: Requested formats are incompatible for merge and will be merged into mkv.\n",
      "WARNING: Requested formats are incompatible for merge and will be merged into mkv.\n",
      "WARNING: Requested formats are incompatible for merge and will be merged into mkv.\n",
      "WARNING: Requested formats are incompatible for merge and will be merged into mkv.\n",
      "WARNING: Requested formats are incompatible for merge and will be merged into mkv.\n",
      "ERROR: unable to download video data: HTTP Error 404: Not Found\n",
      "WARNING: Unable to extract video title\n",
      "ERROR: This video is unavailable.\n",
      "WARNING: Requested formats are incompatible for merge and will be merged into mkv.\n",
      "WARNING: Requested formats are incompatible for merge and will be merged into mkv.\n",
      "ERROR: unable to download video data: HTTP Error 404: Not Found\n",
      "WARNING: Requested formats are incompatible for merge and will be merged into mkv.\n",
      "WARNING: Requested formats are incompatible for merge and will be merged into mkv.\n",
      "WARNING: Unable to extract video title\n",
      "ERROR: This video is unavailable.\n",
      "ERROR: unable to download video data: HTTP Error 404: Not Found\n",
      "WARNING: Requested formats are incompatible for merge and will be merged into mkv.\n",
      "ERROR: unable to download video data: HTTP Error 404: Not Found\n",
      "WARNING: Requested formats are incompatible for merge and will be merged into mkv.\n",
      "WARNING: Requested formats are incompatible for merge and will be merged into mkv.\n",
      "WARNING: Requested formats are incompatible for merge and will be merged into mkv.\n",
      "WARNING: Unable to extract video title\n",
      "ERROR: This video is unavailable.\n",
      "WARNING: Requested formats are incompatible for merge and will be merged into mkv.\n",
      "WARNING: Requested formats are incompatible for merge and will be merged into mkv.\n",
      "WARNING: Unable to extract video title\n",
      "ERROR: This video is unavailable.\n",
      "ERROR: unable to download video data: HTTP Error 404: Not Found\n",
      "WARNING: Requested formats are incompatible for merge and will be merged into mkv.\n",
      "WARNING: Requested formats are incompatible for merge and will be merged into mkv.\n",
      "WARNING: Requested formats are incompatible for merge and will be merged into mkv.\n",
      "ERROR: unable to download video data: HTTP Error 404: Not Found\n",
      "WARNING: Requested formats are incompatible for merge and will be merged into mkv.\n",
      "ERROR: unable to download video data: HTTP Error 404: Not Found\n",
      "WARNING: Requested formats are incompatible for merge and will be merged into mkv.\n",
      "WARNING: Requested formats are incompatible for merge and will be merged into mkv.\n",
      "ERROR: unable to download video data: HTTP Error 404: Not Found\n",
      "WARNING: Unable to extract video title\n",
      "ERROR: This video is unavailable.\n",
      "WARNING: Requested formats are incompatible for merge and will be merged into mkv.\n",
      "WARNING: Requested formats are incompatible for merge and will be merged into mkv.\n",
      "ERROR: unable to download video data: HTTP Error 404: Not Found\n",
      "WARNING: Requested formats are incompatible for merge and will be merged into mkv.\n",
      "WARNING: Requested formats are incompatible for merge and will be merged into mkv.\n",
      "WARNING: Requested formats are incompatible for merge and will be merged into mkv.\n",
      "WARNING: Requested formats are incompatible for merge and will be merged into mkv.\n",
      "ERROR: unable to download video data: HTTP Error 404: Not Found\n",
      "WARNING: Requested formats are incompatible for merge and will be merged into mkv.\n",
      "WARNING: Requested formats are incompatible for merge and will be merged into mkv.\n",
      "WARNING: Requested formats are incompatible for merge and will be merged into mkv.\n",
      "ERROR: unable to download video data: HTTP Error 404: Not Found\n",
      "WARNING: Requested formats are incompatible for merge and will be merged into mkv.\n",
      "WARNING: Requested formats are incompatible for merge and will be merged into mkv.\n",
      "WARNING: Requested formats are incompatible for merge and will be merged into mkv.\n",
      "ERROR: unable to download video data: HTTP Error 404: Not Found\n",
      "WARNING: Requested formats are incompatible for merge and will be merged into mkv.\n",
      "WARNING: Requested formats are incompatible for merge and will be merged into mkv.\n",
      "WARNING: Requested formats are incompatible for merge and will be merged into mkv.\n",
      "ERROR: This video contains content from UMG, who has blocked it on copyright grounds.\n",
      "WARNING: Unable to extract video title\n",
      "ERROR: \"Tom Hiddleston...\" is no longer available due to a copyright claim by a third party.\n",
      "WARNING: Requested formats are incompatible for merge and will be merged into mkv.\n",
      "WARNING: Requested formats are incompatible for merge and will be merged into mkv.\n",
      "WARNING: Requested formats are incompatible for merge and will be merged into mkv.\n",
      "ERROR: unable to download video data: HTTP Error 404: Not Found\n",
      "WARNING: Unable to extract video title\n",
      "ERROR: This video is unavailable.\n",
      "WARNING: Requested formats are incompatible for merge and will be merged into mkv.\n",
      "ERROR: unable to download video data: HTTP Error 404: Not Found\n",
      "WARNING: Requested formats are incompatible for merge and will be merged into mkv.\n",
      "WARNING: Requested formats are incompatible for merge and will be merged into mkv.\n",
      "WARNING: Requested formats are incompatible for merge and will be merged into mkv.\n",
      "ERROR: unable to download video data: HTTP Error 404: Not Found\n",
      "WARNING: Requested formats are incompatible for merge and will be merged into mkv.\n",
      "ERROR: unable to download video data: HTTP Error 404: Not Found\n",
      "WARNING: Requested formats are incompatible for merge and will be merged into mkv.\n",
      "WARNING: Requested formats are incompatible for merge and will be merged into mkv.\n",
      "WARNING: Requested formats are incompatible for merge and will be merged into mkv.\n",
      "WARNING: Requested formats are incompatible for merge and will be merged into mkv.\n",
      "WARNING: Requested formats are incompatible for merge and will be merged into mkv.\n",
      "WARNING: Requested formats are incompatible for merge and will be merged into mkv.\n",
      "WARNING: Requested formats are incompatible for merge and will be merged into mkv.\n",
      "ERROR: unable to download video data: HTTP Error 404: Not Found\n",
      "WARNING: Unable to extract video title\n",
      "ERROR: This video is unavailable.\n",
      "WARNING: Requested formats are incompatible for merge and will be merged into mkv.\n",
      "WARNING: Unable to extract video title\n",
      "ERROR: This video is unavailable.\n",
      "ERROR: unable to download video data: HTTP Error 404: Not Found\n",
      "ERROR: unable to download video data: HTTP Error 404: Not Found\n",
      "WARNING: Requested formats are incompatible for merge and will be merged into mkv.\n",
      "ERROR: unable to download video data: HTTP Error 404: Not Found\n",
      "WARNING: Requested formats are incompatible for merge and will be merged into mkv.\n",
      "ERROR: unable to download video data: HTTP Error 404: Not Found\n",
      "WARNING: Requested formats are incompatible for merge and will be merged into mkv.\n",
      "WARNING: Requested formats are incompatible for merge and will be merged into mkv.\n",
      "ERROR: unable to download video data: HTTP Error 404: Not Found\n",
      "WARNING: Requested formats are incompatible for merge and will be merged into mkv.\n",
      "WARNING: Requested formats are incompatible for merge and will be merged into mkv.\n",
      "WARNING: Requested formats are incompatible for merge and will be merged into mkv.\n",
      "WARNING: Requested formats are incompatible for merge and will be merged into mkv.\n",
      "ERROR: unable to download video data: HTTP Error 404: Not Found\n",
      "WARNING: Requested formats are incompatible for merge and will be merged into mkv.\n",
      "WARNING: Requested formats are incompatible for merge and will be merged into mkv.\n",
      "WARNING: Unable to extract video title\n",
      "ERROR: This video is unavailable.\n",
      "WARNING: Requested formats are incompatible for merge and will be merged into mkv.\n",
      "WARNING: Requested formats are incompatible for merge and will be merged into mkv.\n",
      "WARNING: Requested formats are incompatible for merge and will be merged into mkv.\n",
      "ERROR: unable to download video data: HTTP Error 404: Not Found\n",
      "WARNING: Requested formats are incompatible for merge and will be merged into mkv.\n",
      "WARNING: Requested formats are incompatible for merge and will be merged into mkv.\n",
      "ERROR: unable to download video data: HTTP Error 404: Not Found\n",
      "WARNING: Requested formats are incompatible for merge and will be merged into mkv.\n",
      "ERROR: unable to download video data: HTTP Error 404: Not Found\n",
      "WARNING: Requested formats are incompatible for merge and will be merged into mkv.\n",
      "WARNING: Requested formats are incompatible for merge and will be merged into mkv.\n",
      "ERROR: unable to download video data: HTTP Error 404: Not Found\n",
      "WARNING: Requested formats are incompatible for merge and will be merged into mkv.\n",
      "WARNING: Requested formats are incompatible for merge and will be merged into mkv.\n",
      "WARNING: Requested formats are incompatible for merge and will be merged into mkv.\n",
      "WARNING: Requested formats are incompatible for merge and will be merged into mkv.\n",
      "WARNING: Requested formats are incompatible for merge and will be merged into mkv.\n",
      "WARNING: Requested formats are incompatible for merge and will be merged into mkv.\n",
      "WARNING: Requested formats are incompatible for merge and will be merged into mkv.\n",
      "WARNING: Requested formats are incompatible for merge and will be merged into mkv.\n",
      "WARNING: Requested formats are incompatible for merge and will be merged into mkv.\n",
      "ERROR: unable to download video data: HTTP Error 404: Not Found\n",
      "WARNING: Requested formats are incompatible for merge and will be merged into mkv.\n",
      "WARNING: Unable to extract video title\n",
      "ERROR: This video is unavailable.\n",
      "WARNING: Requested formats are incompatible for merge and will be merged into mkv.\n",
      "WARNING: Unable to extract video title\n",
      "ERROR: \"Epke Zonderland (NED) Paral...\" The YouTube account associated with this video has been terminated due to multiple third-party notifications of copyright infringement.\n"
     ]
    },
    {
     "name": "stdout",
     "output_type": "stream",
     "text": [
      "\n",
      "video already downloaded\n"
     ]
    }
   ],
   "source": [
    "count_training = 0\n",
    "count_testing = 0\n",
    "count_validation = 0\n",
    "path = '../data/videos'\n",
    "\n",
    "for key, item in data[\"database\"].items():\n",
    "    count_training += item['subset'] == 'training'\n",
    "    count_testing += item['subset'] == 'testing'\n",
    "    count_validation += item['subset'] == 'validation'\n",
    "    \n",
    "    if count_training == 1000:\n",
    "        break\n",
    "    \n",
    "    if not os.path.exists(path + '/' + item['subset']):\n",
    "        os.makedirs(path)\n",
    "    \n",
    "    if key + '.mkv' in os.listdir(path + '/' + item['subset']):\n",
    "        print('video already downloaded')\n",
    "        continue\n",
    "        \n",
    "    options = {\n",
    "        'outtmpl': path + '/' + item['subset'] + '/'key,\n",
    "        'quiet': True\n",
    "    }\n",
    "    with youtube_dl.YoutubeDL(options) as ydl:\n",
    "        try:\n",
    "            ydl.download([item['url']])\n",
    "        except:\n",
    "            continue"
   ]
  },
  {
   "cell_type": "code",
   "execution_count": null,
   "metadata": {
    "collapsed": true
   },
   "outputs": [],
   "source": []
  }
 ],
 "metadata": {
  "kernelspec": {
   "display_name": "Python 3",
   "language": "python",
   "name": "python3"
  },
  "language_info": {
   "codemirror_mode": {
    "name": "ipython",
    "version": 3
   },
   "file_extension": ".py",
   "mimetype": "text/x-python",
   "name": "python",
   "nbconvert_exporter": "python",
   "pygments_lexer": "ipython3",
   "version": "3.6.7"
  }
 },
 "nbformat": 4,
 "nbformat_minor": 0
}
