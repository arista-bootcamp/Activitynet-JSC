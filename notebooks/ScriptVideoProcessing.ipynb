{
 "cells": [
  {
   "cell_type": "code",
   "execution_count": 17,
   "metadata": {
    "collapsed": true
   },
   "outputs": [],
   "source": [
    "import os\n",
    "import sys\n",
    "import numpy as np\n",
    "sys.path.append('..')\n",
    "import requests\n",
    "import json\n",
    "from pytube import YouTube\n",
    "import youtube_dl\n",
    "import cv2\n",
    "from os import listdir\n",
    "import shutil\n",
    "import copy"
   ]
  },
  {
   "cell_type": "code",
   "execution_count": 18,
   "metadata": {
    "collapsed": true
   },
   "outputs": [],
   "source": [
    "with open('../data/activity_net.v1-2.min.json') as data_file:    \n",
    "    data_json = json.load(data_file)"
   ]
  },
  {
   "cell_type": "code",
   "execution_count": 19,
   "metadata": {
    "collapsed": false
   },
   "outputs": [],
   "source": [
    "path = '../data/videos/training'\n",
    "classes_training = 0\n",
    "videos_metadata = {}\n",
    "for file_name in os.listdir(path):\n",
    "    video_id = file_name.split('.')[0]\n",
    "    if video_id in data_json['database']:\n",
    "        for item in data_json['database'][video_id]['annotations']:\n",
    "            if item['label'] not in videos_metadata:\n",
    "                classes_training += 1\n",
    "                videos_metadata[item['label']] = {\n",
    "                    'examples': 1,\n",
    "                    'vid_secs': item['segment'][1] - item['segment'][0],\n",
    "                    'idx': classes_training\n",
    "                }\n",
    "            else:\n",
    "                videos_metadata[item['label']]['examples'] += 1\n",
    "                videos_metadata[item['label']]['vid_secs'] += item['segment'][1] - item['segment'][0]\n",
    "       \n"
   ]
  },
  {
   "cell_type": "code",
   "execution_count": 20,
   "metadata": {
    "collapsed": false
   },
   "outputs": [],
   "source": [
    "with open(path + '/training_meta_data.json', 'w') as outfile:\n",
    "    json.dump(videos_metadata, outfile)"
   ]
  },
  {
   "cell_type": "code",
   "execution_count": 23,
   "metadata": {
    "collapsed": false
   },
   "outputs": [
    {
     "data": {
      "text/plain": [
       "{'Archery': {'examples': 26, 'idx': 23, 'vid_secs': 740.43804},\n",
       " 'Breakdancing': {'examples': 15, 'idx': 15, 'vid_secs': 1122.83522},\n",
       " 'Cheerleading': {'examples': 20, 'idx': 5, 'vid_secs': 1857.9458900000002},\n",
       " 'Clean and jerk': {'examples': 17, 'idx': 4, 'vid_secs': 992.8815000000001},\n",
       " 'Discus throw': {'examples': 30, 'idx': 3, 'vid_secs': 514.5941999999999},\n",
       " 'Doing step aerobics': {'examples': 18, 'idx': 10, 'vid_secs': 1746.05254},\n",
       " 'Getting a haircut': {'examples': 28,\n",
       "  'idx': 13,\n",
       "  'vid_secs': 942.1286200000001},\n",
       " 'High jump': {'examples': 16, 'idx': 19, 'vid_secs': 682.8731399999999},\n",
       " 'Horseback riding': {'examples': 17, 'idx': 12, 'vid_secs': 900.02747},\n",
       " 'Javelin throw': {'examples': 18, 'idx': 2, 'vid_secs': 589.923},\n",
       " 'Kayaking': {'examples': 21, 'idx': 11, 'vid_secs': 777.77613},\n",
       " 'Long jump': {'examples': 25, 'idx': 17, 'vid_secs': 373.9625000000001},\n",
       " 'Playing badminton': {'examples': 15,\n",
       "  'idx': 22,\n",
       "  'vid_secs': 860.2902999999999},\n",
       " 'Playing violin': {'examples': 23, 'idx': 7, 'vid_secs': 1364.6748499999999},\n",
       " 'Pole vault': {'examples': 16, 'idx': 20, 'vid_secs': 575.8451299999999},\n",
       " 'Preparing pasta': {'examples': 21, 'idx': 8, 'vid_secs': 1283.47071},\n",
       " 'Putting on makeup': {'examples': 17,\n",
       "  'idx': 9,\n",
       "  'vid_secs': 1149.1765000000003},\n",
       " 'Sailing': {'examples': 17, 'idx': 14, 'vid_secs': 1153.0606699999998},\n",
       " 'Shot put': {'examples': 16, 'idx': 6, 'vid_secs': 451.60219000000006},\n",
       " 'Skateboarding': {'examples': 18, 'idx': 18, 'vid_secs': 540.4609800000001},\n",
       " 'Snatch': {'examples': 24, 'idx': 24, 'vid_secs': 3126.6609699999995},\n",
       " 'Springboard diving': {'examples': 26,\n",
       "  'idx': 21,\n",
       "  'vid_secs': 218.00402000000003},\n",
       " 'Triple jump': {'examples': 33, 'idx': 16, 'vid_secs': 481.04824999999994},\n",
       " 'Using the balance beam': {'examples': 17, 'idx': 1, 'vid_secs': 1584.64767}}"
      ]
     },
     "execution_count": 23,
     "metadata": {},
     "output_type": "execute_result"
    }
   ],
   "source": [
    "count_classes = 1\n",
    "metadata_copy = copy.deepcopy(videos_metadata)\n",
    "for name_class, item in videos_metadata.items():\n",
    "    if item['examples'] < 15:\n",
    "        metadata_copy.pop(name_class)\n",
    "    else:\n",
    "        metadata_copy[name_class]['idx'] = count_classes\n",
    "        count_classes += 1\n",
    "        \n",
    "metadata_copy"
   ]
  },
  {
   "cell_type": "code",
   "execution_count": 24,
   "metadata": {
    "collapsed": true
   },
   "outputs": [],
   "source": [
    "with open(path + '/training_meta_data_reduced.json', 'w') as outfile:\n",
    "    json.dump(metadata_copy, outfile)"
   ]
  },
  {
   "cell_type": "code",
   "execution_count": 25,
   "metadata": {
    "collapsed": false
   },
   "outputs": [
    {
     "data": {
      "text/plain": [
       "25"
      ]
     },
     "execution_count": 25,
     "metadata": {},
     "output_type": "execute_result"
    }
   ],
   "source": [
    "count_classes"
   ]
  }
 ],
 "metadata": {
  "kernelspec": {
   "display_name": "Python 3",
   "language": "python",
   "name": "python3"
  },
  "language_info": {
   "codemirror_mode": {
    "name": "ipython",
    "version": 3
   },
   "file_extension": ".py",
   "mimetype": "text/x-python",
   "name": "python",
   "nbconvert_exporter": "python",
   "pygments_lexer": "ipython3",
   "version": "3.6.7"
  }
 },
 "nbformat": 4,
 "nbformat_minor": 0
}
