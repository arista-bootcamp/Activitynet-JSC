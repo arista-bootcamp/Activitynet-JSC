{
 "cells": [
  {
   "cell_type": "code",
   "execution_count": 10,
   "metadata": {
    "collapsed": true
   },
   "outputs": [],
   "source": [
    "import os\n",
    "import sys\n",
    "import numpy as np\n",
    "sys.path.append('..')\n",
    "import requests\n",
    "import json\n",
    "from pytube import YouTube\n",
    "import youtube_dl\n",
    "import cv2\n",
    "from os import listdir\n",
    "import shutil"
   ]
  },
  {
   "cell_type": "code",
   "execution_count": 13,
   "metadata": {
    "collapsed": true
   },
   "outputs": [],
   "source": [
    "with open('../data/activity_net.v1-2.min.json') as data_file:    \n",
    "    data_json = json.load(data_file)"
   ]
  },
  {
   "cell_type": "code",
   "execution_count": 22,
   "metadata": {
    "collapsed": false
   },
   "outputs": [],
   "source": [
    "path = '../data/videos/training'\n",
    "classes_training = 0\n",
    "videos_metadata = {}\n",
    "for file_name in os.listdir(path):\n",
    "    video_id = file_name.split('.')[0]\n",
    "    if video_id in data_json['database']:\n",
    "        for item in data_json['database'][video_id]['annotations']:\n",
    "            if item['label'] not in videos_metadata:\n",
    "                classes_training += 1\n",
    "                videos_metadata[item['label']] = {\n",
    "                    'examples': 1,\n",
    "                    'vid_secs': item['segment'][1] - item['segment'][0]\n",
    "                }\n",
    "            else:\n",
    "                videos_metadata[item['label']]['examples'] += 1\n",
    "                videos_metadata[item['label']]['vid_secs'] += item['segment'][1] - item['segment'][0]\n",
    "       \n"
   ]
  },
  {
   "cell_type": "code",
   "execution_count": 24,
   "metadata": {
    "collapsed": false
   },
   "outputs": [],
   "source": [
    "with open(path + '/training_meta_data.json', 'w') as outfile:\n",
    "    json.dump(videos_metadata, outfile)"
   ]
  },
  {
   "cell_type": "code",
   "execution_count": null,
   "metadata": {
    "collapsed": true
   },
   "outputs": [],
   "source": []
  }
 ],
 "metadata": {
  "kernelspec": {
   "display_name": "Python 3",
   "language": "python",
   "name": "python3"
  },
  "language_info": {
   "codemirror_mode": {
    "name": "ipython",
    "version": 3
   },
   "file_extension": ".py",
   "mimetype": "text/x-python",
   "name": "python",
   "nbconvert_exporter": "python",
   "pygments_lexer": "ipython3",
   "version": "3.6.7"
  }
 },
 "nbformat": 4,
 "nbformat_minor": 0
}
