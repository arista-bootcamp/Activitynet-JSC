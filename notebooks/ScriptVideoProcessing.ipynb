{
 "cells": [
  {
   "cell_type": "code",
   "execution_count": 10,
   "metadata": {
    "collapsed": true
   },
   "outputs": [],
   "source": [
    "import os\n",
    "import sys\n",
    "import numpy as np\n",
    "sys.path.append('..')\n",
    "import requests\n",
    "import json\n",
    "from pytube import YouTube\n",
    "import youtube_dl\n",
    "import cv2\n",
    "from os import listdir\n",
    "import shutil"
   ]
  },
  {
   "cell_type": "code",
   "execution_count": 25,
   "metadata": {
    "collapsed": true
   },
   "outputs": [],
   "source": [
    "with open('../data/activity_net.v1-2.min.json') as data_file:    \n",
    "    data_json = json.load(data_file)"
   ]
  },
  {
   "cell_type": "code",
   "execution_count": 28,
   "metadata": {
    "collapsed": false
   },
   "outputs": [],
   "source": [
    "path = '../data/videos/training'\n",
    "classes_training = 0\n",
    "videos_metadata = {}\n",
    "for file_name in os.listdir(path):\n",
    "    video_id = file_name.split('.')[0]\n",
    "    if video_id in data_json['database']:\n",
    "        for item in data_json['database'][video_id]['annotations']:\n",
    "            if item['label'] not in videos_metadata:\n",
    "                classes_training += 1\n",
    "                videos_metadata[item['label']] = {\n",
    "                    'examples': 1,\n",
    "                    'vid_secs': item['segment'][1] - item['segment'][0],\n",
    "                    'idx': classes_training\n",
    "                }\n",
    "            else:\n",
    "                videos_metadata[item['label']]['examples'] += 1\n",
    "                videos_metadata[item['label']]['vid_secs'] += item['segment'][1] - item['segment'][0]\n",
    "       \n"
   ]
  },
  {
   "cell_type": "code",
   "execution_count": 29,
   "metadata": {
    "collapsed": false
   },
   "outputs": [],
   "source": [
    "with open(path + '/training_meta_data.json', 'w') as outfile:\n",
    "    json.dump(videos_metadata, outfile)"
   ]
  },
  {
   "cell_type": "code",
   "execution_count": 30,
   "metadata": {
    "collapsed": false
   },
   "outputs": [
    {
     "data": {
      "text/plain": [
       "{'Archery': {'examples': 26, 'idx': 90, 'vid_secs': 740.43804},\n",
       " 'Ballet': {'examples': 9, 'idx': 88, 'vid_secs': 962.11954},\n",
       " 'Bathing dog': {'examples': 10, 'idx': 8, 'vid_secs': 346.05279},\n",
       " 'Belly dance': {'examples': 7, 'idx': 48, 'vid_secs': 903.0045},\n",
       " 'Breakdancing': {'examples': 15, 'idx': 58, 'vid_secs': 1122.83522},\n",
       " 'Brushing hair': {'examples': 7, 'idx': 57, 'vid_secs': 460.63336000000004},\n",
       " 'Brushing teeth': {'examples': 7, 'idx': 45, 'vid_secs': 267.57538},\n",
       " 'Bungee jumping': {'examples': 5, 'idx': 86, 'vid_secs': 105.04468999999999},\n",
       " 'Cheerleading': {'examples': 20, 'idx': 12, 'vid_secs': 1857.9458900000002},\n",
       " 'Chopping wood': {'examples': 7, 'idx': 63, 'vid_secs': 520.3163000000001},\n",
       " 'Clean and jerk': {'examples': 17, 'idx': 10, 'vid_secs': 992.8815000000001},\n",
       " 'Cleaning shoes': {'examples': 9, 'idx': 70, 'vid_secs': 688.6545},\n",
       " 'Cleaning windows': {'examples': 8, 'idx': 87, 'vid_secs': 493.37641},\n",
       " 'Cricket': {'examples': 4, 'idx': 56, 'vid_secs': 282.67098999999996},\n",
       " 'Cumbia': {'examples': 6, 'idx': 96, 'vid_secs': 416.62691},\n",
       " 'Discus throw': {'examples': 30, 'idx': 6, 'vid_secs': 514.5941999999999},\n",
       " 'Dodgeball': {'examples': 8, 'idx': 82, 'vid_secs': 377.5191000000001},\n",
       " 'Doing karate': {'examples': 7, 'idx': 95, 'vid_secs': 318.25981},\n",
       " 'Doing kickboxing': {'examples': 10, 'idx': 68, 'vid_secs': 685.7233},\n",
       " 'Doing motocross': {'examples': 11, 'idx': 13, 'vid_secs': 710.51456},\n",
       " 'Doing nails': {'examples': 5, 'idx': 31, 'vid_secs': 449.7875},\n",
       " 'Doing step aerobics': {'examples': 18, 'idx': 26, 'vid_secs': 1746.05254},\n",
       " 'Drinking beer': {'examples': 8, 'idx': 76, 'vid_secs': 249.08858},\n",
       " 'Drinking coffee': {'examples': 12, 'idx': 9, 'vid_secs': 175.39315},\n",
       " 'Fixing bicycle': {'examples': 9, 'idx': 1, 'vid_secs': 705.4867999999999},\n",
       " 'Getting a haircut': {'examples': 28,\n",
       "  'idx': 41,\n",
       "  'vid_secs': 942.1286200000001},\n",
       " 'Getting a piercing': {'examples': 11,\n",
       "  'idx': 7,\n",
       "  'vid_secs': 655.6838499999999},\n",
       " 'Getting a tattoo': {'examples': 12, 'idx': 11, 'vid_secs': 654.19832},\n",
       " 'Grooming horse': {'examples': 7, 'idx': 47, 'vid_secs': 537.3495299999998},\n",
       " 'Hammer throw': {'examples': 13, 'idx': 80, 'vid_secs': 336.43876999999986},\n",
       " 'Hand washing clothes': {'examples': 6,\n",
       "  'idx': 67,\n",
       "  'vid_secs': 235.23435999999998},\n",
       " 'High jump': {'examples': 16, 'idx': 69, 'vid_secs': 682.8731399999999},\n",
       " 'Hopscotch': {'examples': 6, 'idx': 38, 'vid_secs': 243.18097},\n",
       " 'Horseback riding': {'examples': 17, 'idx': 39, 'vid_secs': 900.02747},\n",
       " 'Ironing clothes': {'examples': 4, 'idx': 19, 'vid_secs': 337.00906},\n",
       " 'Javelin throw': {'examples': 18, 'idx': 4, 'vid_secs': 589.923},\n",
       " 'Kayaking': {'examples': 21, 'idx': 29, 'vid_secs': 777.77613},\n",
       " 'Layup drill in basketball': {'examples': 6,\n",
       "  'idx': 71,\n",
       "  'vid_secs': 260.01974},\n",
       " 'Long jump': {'examples': 25, 'idx': 60, 'vid_secs': 373.9625000000001},\n",
       " 'Making a sandwich': {'examples': 7, 'idx': 3, 'vid_secs': 545.69704},\n",
       " 'Mixing drinks': {'examples': 11, 'idx': 65, 'vid_secs': 519.48992},\n",
       " 'Mowing the lawn': {'examples': 7, 'idx': 37, 'vid_secs': 280.27464999999995},\n",
       " 'Paintball': {'examples': 8, 'idx': 21, 'vid_secs': 562.7625600000001},\n",
       " 'Painting': {'examples': 10, 'idx': 99, 'vid_secs': 1284.0160899999998},\n",
       " 'Ping-pong': {'examples': 7, 'idx': 46, 'vid_secs': 451.04925000000003},\n",
       " 'Plataform diving': {'examples': 10,\n",
       "  'idx': 14,\n",
       "  'vid_secs': 400.6779000000001},\n",
       " 'Playing accordion': {'examples': 9, 'idx': 98, 'vid_secs': 548.09907},\n",
       " 'Playing badminton': {'examples': 15,\n",
       "  'idx': 78,\n",
       "  'vid_secs': 860.2902999999999},\n",
       " 'Playing bagpipes': {'examples': 7, 'idx': 84, 'vid_secs': 425.17422},\n",
       " 'Playing field hockey': {'examples': 8, 'idx': 23, 'vid_secs': 392.77398},\n",
       " 'Playing flauta': {'examples': 13, 'idx': 16, 'vid_secs': 701.81248},\n",
       " 'Playing guitarra': {'examples': 11, 'idx': 43, 'vid_secs': 913.01616},\n",
       " 'Playing harmonica': {'examples': 12,\n",
       "  'idx': 61,\n",
       "  'vid_secs': 674.3751300000001},\n",
       " 'Playing kickball': {'examples': 2, 'idx': 79, 'vid_secs': 70.51728},\n",
       " 'Playing lacrosse': {'examples': 14, 'idx': 30, 'vid_secs': 856.66072},\n",
       " 'Playing piano': {'examples': 7, 'idx': 94, 'vid_secs': 95.72477},\n",
       " 'Playing polo': {'examples': 5, 'idx': 62, 'vid_secs': 280.0706},\n",
       " 'Playing racquetball': {'examples': 11,\n",
       "  'idx': 91,\n",
       "  'vid_secs': 502.89642000000003},\n",
       " 'Playing saxophone': {'examples': 14,\n",
       "  'idx': 93,\n",
       "  'vid_secs': 618.6685099999999},\n",
       " 'Playing squash': {'examples': 10, 'idx': 81, 'vid_secs': 642.6949500000001},\n",
       " 'Playing violin': {'examples': 23, 'idx': 18, 'vid_secs': 1364.6748499999999},\n",
       " 'Playing volleyball': {'examples': 11, 'idx': 52, 'vid_secs': 1146.55376},\n",
       " 'Playing water polo': {'examples': 11,\n",
       "  'idx': 32,\n",
       "  'vid_secs': 722.6123600000001},\n",
       " 'Pole vault': {'examples': 16, 'idx': 74, 'vid_secs': 575.8451299999999},\n",
       " 'Polishing forniture': {'examples': 10, 'idx': 49, 'vid_secs': 440.52705},\n",
       " 'Polishing shoes': {'examples': 10, 'idx': 28, 'vid_secs': 583.2650000000001},\n",
       " 'Preparing pasta': {'examples': 21, 'idx': 20, 'vid_secs': 1283.47071},\n",
       " 'Preparing salad': {'examples': 7, 'idx': 66, 'vid_secs': 386.63851},\n",
       " 'Putting on makeup': {'examples': 17,\n",
       "  'idx': 25,\n",
       "  'vid_secs': 1149.1765000000003},\n",
       " 'Removing curlers': {'examples': 3, 'idx': 73, 'vid_secs': 150.68014},\n",
       " 'Rock climbing': {'examples': 12, 'idx': 22, 'vid_secs': 470.9500300000001},\n",
       " 'Sailing': {'examples': 17, 'idx': 55, 'vid_secs': 1153.0606699999998},\n",
       " 'Shaving': {'examples': 7, 'idx': 54, 'vid_secs': 282.98803999999996},\n",
       " 'Shaving legs': {'examples': 6, 'idx': 36, 'vid_secs': 248.60969},\n",
       " 'Shot put': {'examples': 16, 'idx': 15, 'vid_secs': 451.60219000000006},\n",
       " 'Shoveling snow': {'examples': 11, 'idx': 40, 'vid_secs': 433.70844999999997},\n",
       " 'Skateboarding': {'examples': 18, 'idx': 64, 'vid_secs': 540.4609800000001},\n",
       " 'Smoking a cigarette': {'examples': 12,\n",
       "  'idx': 89,\n",
       "  'vid_secs': 672.7575199999999},\n",
       " 'Smoking hookah': {'examples': 8, 'idx': 33, 'vid_secs': 472.63908000000004},\n",
       " 'Snatch': {'examples': 24, 'idx': 100, 'vid_secs': 3126.6609699999995},\n",
       " 'Spinning': {'examples': 12, 'idx': 83, 'vid_secs': 347.3559},\n",
       " 'Springboard diving': {'examples': 26,\n",
       "  'idx': 77,\n",
       "  'vid_secs': 218.00402000000003},\n",
       " 'Starting a campfire': {'examples': 8, 'idx': 34, 'vid_secs': 540.30317},\n",
       " 'Tai chi': {'examples': 8, 'idx': 35, 'vid_secs': 959.0504399999999},\n",
       " 'Tango': {'examples': 14, 'idx': 5, 'vid_secs': 880.17343},\n",
       " 'Tennis serve with ball bouncing': {'examples': 13,\n",
       "  'idx': 17,\n",
       "  'vid_secs': 304.17163},\n",
       " 'Triple jump': {'examples': 33, 'idx': 59, 'vid_secs': 481.04824999999994},\n",
       " 'Tumbling': {'examples': 5, 'idx': 92, 'vid_secs': 355.18083},\n",
       " 'Using parallel bars': {'examples': 11,\n",
       "  'idx': 51,\n",
       "  'vid_secs': 459.65124999999995},\n",
       " 'Using the balance beam': {'examples': 17, 'idx': 2, 'vid_secs': 1584.64767},\n",
       " 'Using the pommel horse': {'examples': 9,\n",
       "  'idx': 42,\n",
       "  'vid_secs': 300.50737000000004},\n",
       " 'Using uneven bars': {'examples': 2,\n",
       "  'idx': 97,\n",
       "  'vid_secs': 91.08919999999999},\n",
       " 'Vacuuming floor': {'examples': 10, 'idx': 44, 'vid_secs': 416.60448},\n",
       " 'Walking the dog': {'examples': 12, 'idx': 50, 'vid_secs': 395.9283899999999},\n",
       " 'Washing dishes': {'examples': 5, 'idx': 75, 'vid_secs': 208.23734000000002},\n",
       " 'Washing face': {'examples': 11, 'idx': 72, 'vid_secs': 240.32568},\n",
       " 'Washing hands': {'examples': 6, 'idx': 85, 'vid_secs': 148.4232},\n",
       " 'Windsurfing': {'examples': 14, 'idx': 24, 'vid_secs': 873.7722800000001},\n",
       " 'Wrapping presents': {'examples': 10,\n",
       "  'idx': 53,\n",
       "  'vid_secs': 859.9445800000001},\n",
       " 'Zumba': {'examples': 9, 'idx': 27, 'vid_secs': 1273.21787}}"
      ]
     },
     "execution_count": 30,
     "metadata": {},
     "output_type": "execute_result"
    }
   ],
   "source": [
    "videos_metadata"
   ]
  },
  {
   "cell_type": "code",
   "execution_count": null,
   "metadata": {
    "collapsed": true
   },
   "outputs": [],
   "source": []
  }
 ],
 "metadata": {
  "kernelspec": {
   "display_name": "Python 3",
   "language": "python",
   "name": "python3"
  },
  "language_info": {
   "codemirror_mode": {
    "name": "ipython",
    "version": 3
   },
   "file_extension": ".py",
   "mimetype": "text/x-python",
   "name": "python",
   "nbconvert_exporter": "python",
   "pygments_lexer": "ipython3",
   "version": "3.6.7"
  }
 },
 "nbformat": 4,
 "nbformat_minor": 0
}
