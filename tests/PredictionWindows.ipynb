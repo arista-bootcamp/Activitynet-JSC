{
 "cells": [
  {
   "cell_type": "code",
   "execution_count": 141,
   "metadata": {
    "collapsed": false
   },
   "outputs": [
    {
     "name": "stdout",
     "output_type": "stream",
     "text": [
      "The autoreload extension is already loaded. To reload it, use:\n",
      "  %reload_ext autoreload\n"
     ]
    }
   ],
   "source": [
    "import os\n",
    "import sys\n",
    "import json\n",
    "\n",
    "import cv2\n",
    "import matplotlib.pyplot as plt\n",
    "import numpy as np\n",
    "import tensorflow as tf\n",
    "\n",
    "sys.path.append('..')\n",
    "import data\n",
    "import model\n",
    "import utils\n",
    "\n",
    "%load_ext autoreload\n",
    "%autoreload 2"
   ]
  },
  {
   "cell_type": "code",
   "execution_count": 142,
   "metadata": {
    "collapsed": false
   },
   "outputs": [],
   "source": [
    "params = utils.yaml_to_dict('../config.yml')\n",
    "params['data_dir'] = os.path.join('..', params['data_dir'])\n",
    "params['model_dir'] = os.path.join('..', params['model_dir'])\n",
    "params['videos_folder'] = os.path.join('..', params['videos_folder'])\n",
    "params['feature_map_folder'] = os.path.join('..', params['feature_map_folder'])\n",
    "params['json_data_path'] = os.path.join('..', params['json_data_path'])\n",
    "params['json_metadata_path'] = os.path.join('..', params['json_metadata_path'])"
   ]
  },
  {
   "cell_type": "code",
   "execution_count": 143,
   "metadata": {
    "collapsed": false
   },
   "outputs": [],
   "source": [
    "with open(params['json_metadata_path']) as data_file:\n",
    "    metadata_json = json.load(data_file)\n",
    "\n",
    "label_by_idx = {\n",
    "    'level_3': {},\n",
    "    'level_2': {},\n",
    "    'level_1': {},\n",
    "    'level_0': {}\n",
    "}"
   ]
  },
  {
   "cell_type": "code",
   "execution_count": 144,
   "metadata": {
    "collapsed": false
   },
   "outputs": [],
   "source": [
    "for key, item in metadata_json.items():\n",
    "    if key != 'classes_amount':\n",
    "        label_by_idx['level_3'][item['idx']] = key\n",
    "        for level in ['level_2', 'level_1', 'level_0']:\n",
    "            label_by_idx[level][item[level]['idx']] = item[level]['name']\n"
   ]
  },
  {
   "cell_type": "code",
   "execution_count": 149,
   "metadata": {
    "collapsed": false
   },
   "outputs": [],
   "source": [
    "data_gen_test = data.DataWindowGenerator(params, 'validation')"
   ]
  },
  {
   "cell_type": "code",
   "execution_count": 150,
   "metadata": {
    "collapsed": true
   },
   "outputs": [],
   "source": [
    "estimator = tf.estimator.Estimator(\n",
    "    # Custom model function\n",
    "    model_fn=model.model_fn,\n",
    "    params=params,\n",
    "    # Model directory\n",
    "    model_dir=params['model_dir'],\n",
    "    # warm_start_from=cfg.PRE_TRAIN,\n",
    "    config=tf.estimator.RunConfig(\n",
    "        keep_checkpoint_max=params['keep_checkpoint_max'],\n",
    "        save_checkpoints_steps=params['save_checkpoints_steps'],\n",
    "        save_summary_steps=params['save_summary_steps'],\n",
    "        log_step_count_steps=params['log_step_count_steps']\n",
    "    )\n",
    ")"
   ]
  },
  {
   "cell_type": "code",
   "execution_count": 151,
   "metadata": {
    "collapsed": true
   },
   "outputs": [],
   "source": [
    "predictions = estimator.predict(\n",
    "    input_fn = lambda: data.input_fn(data_gen_test, False, params)\n",
    ")"
   ]
  },
  {
   "cell_type": "code",
   "execution_count": 530,
   "metadata": {
    "collapsed": false
   },
   "outputs": [],
   "source": [
    "with open('../data/predicted_output.json', 'w') as outfile:\n",
    "    json.dump(prediction_format, outfile)\n",
    "    "
   ]
  },
  {
   "cell_type": "code",
   "execution_count": 529,
   "metadata": {
    "collapsed": false
   },
   "outputs": [
    {
     "data": {
      "text/plain": [
       "176"
      ]
     },
     "execution_count": 529,
     "metadata": {},
     "output_type": "execute_result"
    }
   ],
   "source": [
    "len(prediction_format['results'])"
   ]
  },
  {
   "cell_type": "code",
   "execution_count": null,
   "metadata": {
    "collapsed": true
   },
   "outputs": [],
   "source": []
  }
 ],
 "metadata": {
  "kernelspec": {
   "display_name": "Python 3",
   "language": "python",
   "name": "python3"
  },
  "language_info": {
   "codemirror_mode": {
    "name": "ipython",
    "version": 3
   },
   "file_extension": ".py",
   "mimetype": "text/x-python",
   "name": "python",
   "nbconvert_exporter": "python",
   "pygments_lexer": "ipython3",
   "version": "3.6.7"
  }
 },
 "nbformat": 4,
 "nbformat_minor": 0
}
