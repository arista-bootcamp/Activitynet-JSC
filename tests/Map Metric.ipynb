{
 "cells": [
  {
   "cell_type": "code",
   "execution_count": 1,
   "metadata": {
    "collapsed": false
   },
   "outputs": [
    {
     "name": "stderr",
     "output_type": "stream",
     "text": [
      "/home/sebas/Documentos/bootcamp/assignment1/.env/lib/python3.6/site-packages/h5py/__init__.py:34: FutureWarning: Conversion of the second argument of issubdtype from `float` to `np.floating` is deprecated. In future, it will be treated as `np.float64 == np.dtype(float).type`.\n",
      "  from ._conv import register_converters as _register_converters\n"
     ]
    }
   ],
   "source": [
    "import cv2\n",
    "import json\n",
    "import os\n",
    "import sys\n",
    "\n",
    "import numpy as np\n",
    "import tensorflow as tf\n",
    "\n",
    "sys.path.append('..')\n",
    "import utils as utils\n",
    "\n",
    "%matplotlib inline\n",
    "%load_ext autoreload\n",
    "%autoreload 2"
   ]
  },
  {
   "cell_type": "code",
   "execution_count": 2,
   "metadata": {
    "collapsed": false
   },
   "outputs": [],
   "source": [
    "params = utils.yaml_to_dict('../config.yml')\n",
    "params['data_dir'] = os.path.join('..', params['data_dir'])"
   ]
  },
  {
   "cell_type": "code",
   "execution_count": 3,
   "metadata": {
    "collapsed": true
   },
   "outputs": [],
   "source": [
    "json_path = os.path.join(params['data_dir'], '..')\n",
    "ground_truth_json = os.path.join(params['data_dir'],'activity_net.v1-3.min.json')\n",
    "prediction_json = os.path.join(json_path, 'sample_detection_prediction.json')\n",
    "\n",
    "with open(ground_truth_json, 'r') as file:\n",
    "    ground_truth = json.load(file)\n",
    "    \n",
    "with open(prediction_json, 'r') as file:\n",
    "    prediction = json.load(file)"
   ]
  },
  {
   "cell_type": "code",
   "execution_count": 4,
   "metadata": {
    "collapsed": true
   },
   "outputs": [],
   "source": [
    "def calc_union(min_1,max_1,min_2,max_2):\n",
    "    return np.max([max_1,max_2]) - np.min([min_1,min_2])\n",
    "\n",
    "def calc_overlap(min_1,max_1,min_2,max_2):\n",
    "    return np.max([0,np.min([max_1,max_2])-np.max([min_1,min_2])])\n",
    "\n",
    "def compute_iou(union,overlap):\n",
    "    return union/overlap\n",
    "\n",
    "def compute_AP(true_positive,false_positive):\n",
    "    return true_positive/(true_positive+false_positive)\n",
    "\n",
    "def compute_mAP(clases_ap):\n",
    "    \"\"\"\n",
    "    HAY QUE VERIFICAR QUE EL NUMERO DE CLASES AQUI SEA <=101\n",
    "    \"\"\"\n",
    "    return sum(clases_ap.values())/101\n",
    "\n",
    "def compute_average_mAP(threshold_mAP):\n",
    "    num_threshold = len(threshold_mAP)\n",
    "    return sum(threshold_mAP.values())/num_threshold\n",
    "\n",
    "def compute_classes_ap(clases_true_positive,clases_false_positive):\n",
    "    clases_ap = {}\n",
    "    for label in clases_true_positive:\n",
    "        clases_ap[label] = compute_AP(\n",
    "            clases_true_positive[label],\n",
    "            clases_false_positive[label])\n",
    "        \n",
    "    return clases_ap"
   ]
  },
  {
   "cell_type": "code",
   "execution_count": 5,
   "metadata": {
    "collapsed": true
   },
   "outputs": [],
   "source": [
    "def compute_threshold_mAP():\n",
    "    threshold_mAP = {}\n",
    "    thresholds = np.linspace(0.5, 0.95, num=10)\n",
    "    for threshold_iou in thresholds:\n",
    "        clases_fp = {}\n",
    "        clases_tp = {}\n",
    "        for key,value in prediction['results'].items():\n",
    "            ground_truth_key = ground_truth['database'][key]['annotations']\n",
    "            for list_indice,predicted_segment in enumerate(prediction['results'][key]):\n",
    "\n",
    "                true_positive = 0\n",
    "                false_positive = 0\n",
    "                predicted_label = predicted_segment['label']\n",
    "                truth_label = ground_truth_key[list_indice]['label']\n",
    "\n",
    "                if predicted_label == truth_label:\n",
    "\n",
    "                    min_1 = predicted_segment['segment'][0]\n",
    "                    max_1 = predicted_segment['segment'][1]\n",
    "\n",
    "                    min_2 = ground_truth_key[list_indice]['segment'][0]\n",
    "                    max_2 = ground_truth_key[list_indice]['segment'][1]\n",
    "\n",
    "                    union = calc_union(min_1,max_1,min_2,max_2)\n",
    "                    overlap = calc_overlap(min_1,max_1,min_2,max_2)\n",
    "                    iou = compute_iou(union,overlap)\n",
    "\n",
    "                    if iou >= threshold_iou:\n",
    "                        true_positive = 1\n",
    "                    else:\n",
    "                        false_positive = 1\n",
    "\n",
    "                else:\n",
    "                    false_positive = 1\n",
    "\n",
    "                if predicted_label in clases_tp.keys():\n",
    "                    clases_tp[predicted_label] += true_positive\n",
    "                    clases_fp[predicted_label] += false_positive\n",
    "                else:\n",
    "                    clases_tp[predicted_label] = true_positive\n",
    "                    clases_fp[predicted_label] = false_positive\n",
    "\n",
    "\n",
    "        clases_ap = compute_classes_ap(clases_tp,clases_fp)\n",
    "        threshold_mAP[threshold_iou] = compute_mAP(clases_ap)\n",
    "        \n",
    "    return threshold_mAP"
   ]
  },
  {
   "cell_type": "code",
   "execution_count": 6,
   "metadata": {
    "collapsed": false
   },
   "outputs": [
    {
     "name": "stderr",
     "output_type": "stream",
     "text": [
      "/home/sebas/Documentos/bootcamp/assignment1/.env/lib/python3.6/site-packages/ipykernel/__main__.py:8: RuntimeWarning: invalid value encountered in double_scalars\n",
      "/home/sebas/Documentos/bootcamp/assignment1/.env/lib/python3.6/site-packages/ipykernel/__main__.py:8: RuntimeWarning: invalid value encountered in long_scalars\n"
     ]
    },
    {
     "data": {
      "text/plain": [
       "1.9791578931648819"
      ]
     },
     "execution_count": 6,
     "metadata": {},
     "output_type": "execute_result"
    }
   ],
   "source": [
    "threshold_mAP = compute_threshold_mAP()\n",
    "compute_average_mAP(threshold_mAP)"
   ]
  }
 ],
 "metadata": {
  "kernelspec": {
   "display_name": "Python 3",
   "language": "python",
   "name": "python3"
  },
  "language_info": {
   "codemirror_mode": {
    "name": "ipython",
    "version": 3
   },
   "file_extension": ".py",
   "mimetype": "text/x-python",
   "name": "python",
   "nbconvert_exporter": "python",
   "pygments_lexer": "ipython3",
   "version": "3.6.5"
  }
 },
 "nbformat": 4,
 "nbformat_minor": 2
}
