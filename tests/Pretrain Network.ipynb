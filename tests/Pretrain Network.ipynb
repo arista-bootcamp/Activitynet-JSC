{
 "cells": [
  {
   "cell_type": "markdown",
   "metadata": {},
   "source": [
    "### Dependencies"
   ]
  },
  {
   "cell_type": "code",
   "execution_count": 1,
   "metadata": {
    "collapsed": false
   },
   "outputs": [
    {
     "name": "stderr",
     "output_type": "stream",
     "text": [
      "/home/sebas/Documentos/bootcamp/assignment1/.env/lib/python3.6/site-packages/h5py/__init__.py:34: FutureWarning: Conversion of the second argument of issubdtype from `float` to `np.floating` is deprecated. In future, it will be treated as `np.float64 == np.dtype(float).type`.\n",
      "  from ._conv import register_converters as _register_converters\n",
      "Using TensorFlow backend.\n"
     ]
    }
   ],
   "source": [
    "import cv2\n",
    "import os\n",
    "import sys\n",
    "\n",
    "import matplotlib.pyplot as plt\n",
    "import numpy as np\n",
    "import tensorflow as tf\n",
    "import tensorflow_hub as hub\n",
    "\n",
    "from tensorflow.python import pywrap_tensorflow\n",
    "\n",
    "sys.path.append('..')\n",
    "\n",
    "import video_input as vi\n",
    "import model as model\n",
    "import utils as utils\n",
    "\n",
    "%matplotlib inline\n",
    "%load_ext autoreload\n",
    "%autoreload 2"
   ]
  },
  {
   "cell_type": "code",
   "execution_count": 2,
   "metadata": {
    "collapsed": true
   },
   "outputs": [],
   "source": [
    "params = utils.yaml_to_dict('../config.yml')\n",
    "params['data_dir'] = os.path.join('..', params['data_dir'])\n",
    "params['videos_folder'] = os.path.join('..', params['videos_folder'])"
   ]
  },
  {
   "cell_type": "code",
   "execution_count": 3,
   "metadata": {},
   "outputs": [
    {
     "data": {
      "text/plain": [
       "{'data_dir': '..\\\\data',\n",
       " 'temp_dir': '.temp',\n",
       " 'videos_folder': '..\\\\data/videos',\n",
       " 'shuffle': True,\n",
       " 'skip_frames': 6,\n",
       " 'resize': [224, 224]}"
      ]
     },
     "execution_count": 3,
     "metadata": {},
     "output_type": "execute_result"
    }
   ],
   "source": [
    "params"
   ]
  },
  {
   "cell_type": "markdown",
   "metadata": {},
   "source": [
    "### Set test image"
   ]
  },
  {
   "cell_type": "code",
   "execution_count": 3,
   "metadata": {
    "collapsed": false
   },
   "outputs": [
    {
     "ename": "AttributeError",
     "evalue": "'NoneType' object has no attribute 'shape'",
     "output_type": "error",
     "traceback": [
      "\u001b[1;31m---------------------------------------------------------------------------\u001b[0m",
      "\u001b[1;31mAttributeError\u001b[0m                            Traceback (most recent call last)",
      "\u001b[1;32m<ipython-input-12-c4e335be0d15>\u001b[0m in \u001b[0;36m<module>\u001b[1;34m\u001b[0m\n\u001b[0;32m      4\u001b[0m \u001b[1;33m\u001b[0m\u001b[0m\n\u001b[0;32m      5\u001b[0m \u001b[0mtest_img\u001b[0m \u001b[1;33m=\u001b[0m \u001b[0mcv2\u001b[0m\u001b[1;33m.\u001b[0m\u001b[0mimread\u001b[0m\u001b[1;33m(\u001b[0m\u001b[0mimg_path\u001b[0m\u001b[1;33m)\u001b[0m\u001b[1;33m\u001b[0m\u001b[1;33m\u001b[0m\u001b[0m\n\u001b[1;32m----> 6\u001b[1;33m \u001b[0mprint\u001b[0m\u001b[1;33m(\u001b[0m\u001b[1;34m'Original Size'\u001b[0m\u001b[1;33m,\u001b[0m\u001b[0mtest_img\u001b[0m\u001b[1;33m.\u001b[0m\u001b[0mshape\u001b[0m\u001b[1;33m)\u001b[0m\u001b[1;33m\u001b[0m\u001b[1;33m\u001b[0m\u001b[0m\n\u001b[0m\u001b[0;32m      7\u001b[0m \u001b[1;33m\u001b[0m\u001b[0m\n\u001b[0;32m      8\u001b[0m \u001b[0mimg_resize\u001b[0m \u001b[1;33m=\u001b[0m \u001b[0mcv2\u001b[0m\u001b[1;33m.\u001b[0m\u001b[0mresize\u001b[0m\u001b[1;33m(\u001b[0m\u001b[0mtest_img\u001b[0m\u001b[1;33m,\u001b[0m\u001b[1;33m(\u001b[0m\u001b[0mimg_width\u001b[0m\u001b[1;33m,\u001b[0m\u001b[0mimg_height\u001b[0m\u001b[1;33m)\u001b[0m\u001b[1;33m)\u001b[0m\u001b[1;33m\u001b[0m\u001b[1;33m\u001b[0m\u001b[0m\n",
      "\u001b[1;31mAttributeError\u001b[0m: 'NoneType' object has no attribute 'shape'"
     ]
    }
   ],
   "source": [
    "img_path = os.path.join('..',params['temp_dir'], 'test_img.jpg')\n",
    "img_width = 224\n",
    "img_height = 224\n",
    "\n",
    "test_img = cv2.imread(img_path)\n",
    "print('Original Size',test_img.shape)\n",
    "\n",
    "img_resize = cv2.resize(test_img,(img_width,img_height))\n",
    "img_resize = img_resize[None, ...]\n",
    "\n",
    "img_normalized = (img_resize / 255.0)\n",
    "print('Resized and normalized image', img_normalized.shape)"
   ]
  },
  {
   "cell_type": "markdown",
   "metadata": {},
   "source": [
    "### Load pretrained model"
   ]
  },
  {
   "cell_type": "code",
   "execution_count": 4,
   "metadata": {
    "collapsed": false
   },
   "outputs": [],
   "source": [
    "pretrain_model = model._initialize_pretrained_model()"
   ]
  },
  {
   "cell_type": "markdown",
   "metadata": {},
   "source": [
    "### Make predictions"
   ]
  },
  {
   "cell_type": "code",
   "execution_count": 5,
   "metadata": {
    "collapsed": false
   },
   "outputs": [],
   "source": [
    "video_path = os.path.join(params['videos_folder'],'videoplayback.mp4')\n",
    "video_gen = vi.load_video(video_path)"
   ]
  },
  {
   "cell_type": "code",
   "execution_count": 7,
   "metadata": {
    "collapsed": false
   },
   "outputs": [],
   "source": [
    "block4_pool_features = pretrain_model.predict(next(video_gen))"
   ]
  },
  {
   "cell_type": "code",
   "execution_count": 8,
   "metadata": {
    "collapsed": false
   },
   "outputs": [
    {
     "data": {
      "text/plain": [
       "(15, 5, 5, 1536)"
      ]
     },
     "execution_count": 8,
     "metadata": {},
     "output_type": "execute_result"
    }
   ],
   "source": [
    "block4_pool_features.shape"
   ]
  },
  {
   "cell_type": "code",
   "execution_count": 29,
   "metadata": {
    "collapsed": false
   },
   "outputs": [],
   "source": [
    "x = model._pretrained_one(block4_pool_features)\n",
    "\n",
    "with tf.Session() as sess:\n",
    "    sess.run(tf.global_variables_initializer())\n",
    "    sess.run(tf.tables_initializer())\n",
    "    elements = sess.run(x)"
   ]
  },
  {
   "cell_type": "code",
   "execution_count": 33,
   "metadata": {
    "collapsed": false
   },
   "outputs": [
    {
     "data": {
      "text/plain": [
       "array([0.49111667, 0.513336  , 0.5299837 , 0.48736665, 0.5069747 ,\n",
       "       0.483067  , 0.5140917 , 0.5116698 , 0.4511453 , 0.49304977,\n",
       "       0.48883072, 0.4494711 , 0.4742391 , 0.49690166, 0.5055119 ,\n",
       "       0.4783683 , 0.48230588, 0.5517194 , 0.49921197, 0.51972944,\n",
       "       0.50787455, 0.44780937, 0.5242461 , 0.5442976 , 0.5226282 ,\n",
       "       0.48349133, 0.5150849 , 0.48515472, 0.5379674 , 0.5073418 ,\n",
       "       0.5044579 , 0.49657068, 0.49197307, 0.4982176 , 0.5146164 ,\n",
       "       0.48660052, 0.5124666 , 0.52547204, 0.4701331 , 0.51459706,\n",
       "       0.48764348, 0.52224565, 0.5057815 , 0.50141233, 0.5173896 ,\n",
       "       0.5594921 , 0.5026125 , 0.4655421 , 0.5086109 , 0.51616246,\n",
       "       0.50659484, 0.52577525, 0.49910122, 0.44279143, 0.4930675 ,\n",
       "       0.5128241 , 0.49222168, 0.55270815, 0.5021436 , 0.49198422,\n",
       "       0.53690666, 0.502867  , 0.54673606, 0.5038416 , 0.51814497,\n",
       "       0.4885397 , 0.4857123 , 0.5035505 , 0.49789897, 0.51800436,\n",
       "       0.45680737, 0.48156723, 0.4966005 , 0.5081052 , 0.464077  ,\n",
       "       0.5361175 , 0.51482403, 0.48743188, 0.5005112 , 0.48603535,\n",
       "       0.5484174 , 0.4546032 , 0.5275369 , 0.51079714, 0.4863653 ,\n",
       "       0.52386165, 0.56121963, 0.5162813 , 0.5025471 , 0.5133864 ,\n",
       "       0.5503835 , 0.5264622 , 0.54211736, 0.51708746, 0.5082063 ,\n",
       "       0.47975305, 0.4887032 , 0.52235407, 0.5204531 , 0.46883968],\n",
       "      dtype=float32)"
      ]
     },
     "execution_count": 33,
     "metadata": {},
     "output_type": "execute_result"
    }
   ],
   "source": [
    "elements[0,...]"
   ]
  },
  {
   "cell_type": "code",
   "execution_count": 40,
   "metadata": {
    "collapsed": false
   },
   "outputs": [],
   "source": [
    "x = model._pretrained_two(block4_pool_features)\n",
    "\n",
    "with tf.Session() as sess:\n",
    "    sess.run(tf.global_variables_initializer())\n",
    "    sess.run(tf.tables_initializer())\n",
    "    elements = sess.run(x)"
   ]
  },
  {
   "cell_type": "code",
   "execution_count": 41,
   "metadata": {
    "collapsed": false
   },
   "outputs": [
    {
     "data": {
      "text/plain": [
       "array([0.01207865, 0.00456597, 0.01241621, 0.01621264, 0.00577279,\n",
       "       0.0099596 , 0.01314681, 0.01176489, 0.00640065, 0.01363329,\n",
       "       0.00652337, 0.01102627, 0.00815941, 0.00752501, 0.00336708,\n",
       "       0.01122649, 0.0150097 , 0.00970603, 0.00893102, 0.01236842,\n",
       "       0.0156664 , 0.01234737, 0.00740969, 0.0064897 , 0.00916571,\n",
       "       0.00588586, 0.00736087, 0.01000477, 0.00940295, 0.01019476,\n",
       "       0.01195395, 0.01112088, 0.00688618, 0.00673314, 0.01164916,\n",
       "       0.0174953 , 0.0117521 , 0.01413415, 0.00697088, 0.00894834,\n",
       "       0.00598124, 0.00965149, 0.00861228, 0.00831562, 0.01461928,\n",
       "       0.01193028, 0.00673633, 0.01366661, 0.01030946, 0.0077965 ,\n",
       "       0.00659045, 0.00738756, 0.00951316, 0.01454755, 0.0124333 ,\n",
       "       0.00671233, 0.01119893, 0.00711523, 0.01298281, 0.01026683,\n",
       "       0.006384  , 0.01246846, 0.01356132, 0.00713802, 0.0081061 ,\n",
       "       0.01130381, 0.00679951, 0.00841243, 0.00657527, 0.00649087,\n",
       "       0.00820064, 0.01524446, 0.00912929, 0.00380662, 0.01686493,\n",
       "       0.01074181, 0.02313106, 0.00597665, 0.00582458, 0.00653133,\n",
       "       0.00524418, 0.00570628, 0.01349248, 0.01484256, 0.0086217 ,\n",
       "       0.02596946, 0.01798577, 0.00918888, 0.00470404, 0.00720904,\n",
       "       0.00938451, 0.01380422, 0.01406362, 0.00563055, 0.01055335,\n",
       "       0.00828534, 0.01121545, 0.00936425, 0.01057413, 0.00373541],\n",
       "      dtype=float32)"
      ]
     },
     "execution_count": 41,
     "metadata": {},
     "output_type": "execute_result"
    }
   ],
   "source": [
    "elements[0,...]"
   ]
  },
  {
   "cell_type": "code",
   "execution_count": null,
   "metadata": {},
   "outputs": [],
   "source": []
  }
 ],
 "metadata": {
  "kernelspec": {
   "display_name": "Python 3",
   "language": "python",
   "name": "python3"
  },
  "language_info": {
   "codemirror_mode": {
    "name": "ipython",
    "version": 3
   },
   "file_extension": ".py",
   "mimetype": "text/x-python",
   "name": "python",
   "nbconvert_exporter": "python",
   "pygments_lexer": "ipython3",
   "version": "3.6.8"
  }
 },
 "nbformat": 4,
 "nbformat_minor": 2
}
