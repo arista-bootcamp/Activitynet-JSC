{
 "cells": [
  {
   "cell_type": "markdown",
   "metadata": {},
   "source": [
    "### Dependencies"
   ]
  },
  {
   "cell_type": "code",
   "execution_count": 9,
   "metadata": {
    "collapsed": false
   },
   "outputs": [
    {
     "name": "stdout",
     "output_type": "stream",
     "text": [
      "The autoreload extension is already loaded. To reload it, use:\n",
      "  %reload_ext autoreload\n"
     ]
    }
   ],
   "source": [
    "import cv2\n",
    "import os\n",
    "import sys\n",
    "\n",
    "import matplotlib.pyplot as plt\n",
    "import numpy as np\n",
    "import tensorflow as tf\n",
    "import tensorflow_hub as hub\n",
    "\n",
    "from tensorflow.python import pywrap_tensorflow\n",
    "\n",
    "sys.path.append('..')\n",
    "\n",
    "import video_input as vi\n",
    "import model as model\n",
    "import utils as utils\n",
    "\n",
    "%matplotlib inline\n",
    "%load_ext autoreload\n",
    "%autoreload 2"
   ]
  },
  {
   "cell_type": "code",
   "execution_count": 10,
   "metadata": {
    "collapsed": true
   },
   "outputs": [],
   "source": [
    "params = utils.yaml_to_dict('../config.yml')\n",
    "params['data_dir'] = os.path.join('..', params['data_dir'])\n",
    "params['videos_folder'] = os.path.join('..', params['videos_folder'])"
   ]
  },
  {
   "cell_type": "code",
   "execution_count": 11,
   "metadata": {
    "collapsed": false
   },
   "outputs": [
    {
     "data": {
      "text/plain": [
       "{'batch_size': 15,\n",
       " 'buffer_size': 50,\n",
       " 'classes_amount': 101,\n",
       " 'data_dir': '../data',\n",
       " 'eval_steps': 10,\n",
       " 'feature_map_folder': 'data/feature_maps',\n",
       " 'feature_maps_size': [5, 5, 1536],\n",
       " 'json_data_path': 'data/activity_net.v1-2.min.json',\n",
       " 'json_metadata_path': 'data/training_meta_data_reduced.json',\n",
       " 'keep_checkpoint_max': 3,\n",
       " 'label_feature_maps_size': [101],\n",
       " 'learning_rate': 0.0001,\n",
       " 'log_step_count_steps': 20,\n",
       " 'max_frames': [15],\n",
       " 'max_steps': 21000,\n",
       " 'model': 'gap',\n",
       " 'model_dir': '.temp/checkpoints',\n",
       " 'num_epochs': 20,\n",
       " 'resize': [224, 224],\n",
       " 'save_checkpoints_steps': 20,\n",
       " 'save_summary_steps': 20,\n",
       " 'shuffle': True,\n",
       " 'skip_frames': 10,\n",
       " 'start_delay_secs': 10,\n",
       " 'taxonomy_level': 2,\n",
       " 'temp_dir': '.temp',\n",
       " 'throttle_secs': 10,\n",
       " 'videos_folder': '../data/videos',\n",
       " 'weight_factor': 8}"
      ]
     },
     "execution_count": 11,
     "metadata": {},
     "output_type": "execute_result"
    }
   ],
   "source": [
    "params"
   ]
  },
  {
   "cell_type": "markdown",
   "metadata": {},
   "source": [
    "### Set test image"
   ]
  },
  {
   "cell_type": "code",
   "execution_count": null,
   "metadata": {
    "collapsed": false
   },
   "outputs": [],
   "source": [
    "img_path = os.path.join('..',params['temp_dir'], 'test_img.jpg')\n",
    "img_width = 224\n",
    "img_height = 224\n",
    "\n",
    "test_img = cv2.imread(img_path)\n",
    "print('Original Size',test_img.shape)\n",
    "\n",
    "img_resize = cv2.resize(test_img,(img_width,img_height))\n",
    "img_resize = img_resize[None, ...]\n",
    "\n",
    "img_normalized = (img_resize / 255.0)\n",
    "print('Resized and normalized image', img_normalized.shape)"
   ]
  },
  {
   "cell_type": "markdown",
   "metadata": {},
   "source": [
    "### Load pretrained model"
   ]
  },
  {
   "cell_type": "code",
   "execution_count": 12,
   "metadata": {
    "collapsed": false
   },
   "outputs": [],
   "source": [
    "pretrain_model = model._initialize_pretrained_model()"
   ]
  },
  {
   "cell_type": "markdown",
   "metadata": {},
   "source": [
    "### Make predictions with different models"
   ]
  },
  {
   "cell_type": "code",
   "execution_count": 13,
   "metadata": {
    "collapsed": true
   },
   "outputs": [],
   "source": [
    "params['json_data_path'] = os.path.join('..',params['json_data_path'])\n",
    "params['json_metadata_path'] = os.path.join('..',params['json_metadata_path'])"
   ]
  },
  {
   "cell_type": "code",
   "execution_count": 6,
   "metadata": {
    "collapsed": true
   },
   "outputs": [],
   "source": [
    "video_gen = vi.all_data_videos(params)"
   ]
  },
  {
   "cell_type": "code",
   "execution_count": null,
   "metadata": {
    "collapsed": false
   },
   "outputs": [],
   "source": [
    "particular_frames = next(video_gen)[0]\n",
    "particular_frames.shape"
   ]
  },
  {
   "cell_type": "code",
   "execution_count": null,
   "metadata": {
    "collapsed": false
   },
   "outputs": [],
   "source": [
    "#particular_frames = particular_frames[None, ...]"
   ]
  },
  {
   "cell_type": "code",
   "execution_count": null,
   "metadata": {
    "collapsed": false
   },
   "outputs": [],
   "source": [
    "block4_pool_features = pretrain_model.predict(particular_frames)"
   ]
  },
  {
   "cell_type": "code",
   "execution_count": null,
   "metadata": {
    "collapsed": false
   },
   "outputs": [],
   "source": [
    "block4_pool_features.shape"
   ]
  },
  {
   "cell_type": "code",
   "execution_count": null,
   "metadata": {
    "collapsed": false
   },
   "outputs": [],
   "source": [
    "x = model.gap_module(block4_pool_features)\n",
    "\n",
    "with tf.Session() as sess:\n",
    "    sess.run(tf.global_variables_initializer())\n",
    "    sess.run(tf.tables_initializer())\n",
    "    elements = sess.run(x)"
   ]
  },
  {
   "cell_type": "code",
   "execution_count": null,
   "metadata": {
    "collapsed": false
   },
   "outputs": [],
   "source": [
    "elements[0,...]"
   ]
  },
  {
   "cell_type": "code",
   "execution_count": null,
   "metadata": {
    "collapsed": false
   },
   "outputs": [],
   "source": [
    "x = model.dense_module(block4_pool_features)\n",
    "\n",
    "with tf.Session() as sess:\n",
    "    sess.run(tf.global_variables_initializer())\n",
    "    sess.run(tf.tables_initializer())\n",
    "    elements = sess.run(x)"
   ]
  },
  {
   "cell_type": "code",
   "execution_count": null,
   "metadata": {
    "collapsed": false
   },
   "outputs": [],
   "source": [
    "elements[0,...]"
   ]
  },
  {
   "cell_type": "markdown",
   "metadata": {},
   "source": [
    "## Preprocessing data and make logits"
   ]
  },
  {
   "cell_type": "code",
   "execution_count": 14,
   "metadata": {
    "collapsed": false
   },
   "outputs": [],
   "source": [
    "all_data_videos = vi.all_data_videos(params)"
   ]
  },
  {
   "cell_type": "code",
   "execution_count": 15,
   "metadata": {
    "collapsed": false,
    "scrolled": true
   },
   "outputs": [
    {
     "name": "stdout",
     "output_type": "stream",
     "text": [
      "current video:  1Y1pKGFm-pQ\n",
      "(15, 34)\n",
      "(15, 34)\n",
      "(15, 34)\n",
      "(15, 34)\n",
      "(15, 34)\n",
      "(15, 34)\n",
      "(9, 34)\n",
      "current video:  0p3JN4KJsUs\n"
     ]
    }
   ],
   "source": [
    "videos_dict = dict()\n",
    "current_video = 'not a video'\n",
    "steps_videos = 0\n",
    "\n",
    "for data in all_data_videos:\n",
    "    steps_videos += data[2] != current_video\n",
    "    \n",
    "    if data[2] != current_video:\n",
    "        print('current video: ', data[2])\n",
    "        \n",
    "    current_video = data[2]\n",
    "    \n",
    "    if steps_videos == 2:\n",
    "        break\n",
    "\n",
    "    image_frames = data[0]\n",
    "    image_label = data[1]\n",
    "    image_video_id = data[2]\n",
    "    \n",
    "    print(image_label.shape)\n",
    "    \n",
    "    try:\n",
    "        image_feature_map = pretrain_model.predict(image_frames)\n",
    "    except:\n",
    "        continue\n",
    "\n",
    "    image_video_name = image_video_id + '_batch_1.npz'\n",
    "    image_feature_path = os.path.join(params['data_dir'] + '/feature_maps/training/', image_video_name)\n",
    "    batch_count = 1\n",
    "    while os.path.isfile(image_feature_path):\n",
    "        batch_count += 1\n",
    "        image_video_name = image_video_id + '_batch_' + str(batch_count) + '.npz'\n",
    "        image_feature_path = os.path.join(params['data_dir'] + '/feature_maps/training/', image_video_name)    \n",
    "        \n",
    "    np.savez(image_feature_path, feature_map=image_feature_map, label = image_label)"
   ]
  },
  {
   "cell_type": "code",
   "execution_count": null,
   "metadata": {
    "collapsed": false
   },
   "outputs": [],
   "source": [
    "image_feature_file = np.load(os.path.join(params['data_dir'],'test.npz'))"
   ]
  },
  {
   "cell_type": "code",
   "execution_count": null,
   "metadata": {
    "collapsed": false
   },
   "outputs": [],
   "source": [
    "image_feature_file['feature_map'].shape"
   ]
  },
  {
   "cell_type": "code",
   "execution_count": null,
   "metadata": {
    "collapsed": false
   },
   "outputs": [],
   "source": [
    "image_feature_file['label']"
   ]
  },
  {
   "cell_type": "code",
   "execution_count": null,
   "metadata": {
    "collapsed": false
   },
   "outputs": [],
   "source": [
    "1536*15"
   ]
  }
 ],
 "metadata": {
  "kernelspec": {
   "display_name": "Python 3",
   "language": "python",
   "name": "python3"
  },
  "language_info": {
   "codemirror_mode": {
    "name": "ipython",
    "version": 3
   },
   "file_extension": ".py",
   "mimetype": "text/x-python",
   "name": "python",
   "nbconvert_exporter": "python",
   "pygments_lexer": "ipython3",
   "version": "3.6.7"
  }
 },
 "nbformat": 4,
 "nbformat_minor": 2
}
