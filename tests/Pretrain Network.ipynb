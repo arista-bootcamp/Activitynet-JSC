{
 "cells": [
  {
   "cell_type": "markdown",
   "metadata": {},
   "source": [
    "### Dependencies"
   ]
  },
  {
   "cell_type": "code",
   "execution_count": 9,
   "metadata": {
    "collapsed": false
   },
   "outputs": [
    {
     "name": "stdout",
     "output_type": "stream",
     "text": [
      "The autoreload extension is already loaded. To reload it, use:\n",
      "  %reload_ext autoreload\n"
     ]
    }
   ],
   "source": [
    "import cv2\n",
    "import os\n",
    "import sys\n",
    "\n",
    "import matplotlib.pyplot as plt\n",
    "import numpy as np\n",
    "import tensorflow as tf\n",
    "import tensorflow_hub as hub\n",
    "\n",
    "from tensorflow.python import pywrap_tensorflow\n",
    "\n",
    "sys.path.append('..')\n",
    "\n",
    "import video_input as vi\n",
    "import model as model\n",
    "import utils as utils\n",
    "\n",
    "%matplotlib inline\n",
    "%load_ext autoreload\n",
    "%autoreload 2"
   ]
  },
  {
   "cell_type": "code",
   "execution_count": 10,
   "metadata": {
    "collapsed": true
   },
   "outputs": [],
   "source": [
    "params = utils.yaml_to_dict('../config.yml')\n",
    "params['data_dir'] = os.path.join('..', params['data_dir'])\n",
    "params['videos_folder'] = os.path.join('..', params['videos_folder'])"
   ]
  },
  {
   "cell_type": "code",
   "execution_count": 11,
   "metadata": {
    "collapsed": false
   },
   "outputs": [
    {
     "data": {
      "text/plain": [
       "{'data_dir': '../data',\n",
       " 'resize': [224, 224],\n",
       " 'shuffle': True,\n",
       " 'skip_frames': 10,\n",
       " 'temp_dir': '.temp',\n",
       " 'videos_folder': '../data/videos'}"
      ]
     },
     "execution_count": 11,
     "metadata": {},
     "output_type": "execute_result"
    }
   ],
   "source": [
    "params"
   ]
  },
  {
   "cell_type": "markdown",
   "metadata": {},
   "source": [
    "### Set test image"
   ]
  },
  {
   "cell_type": "code",
   "execution_count": 12,
   "metadata": {
    "collapsed": false
   },
   "outputs": [
    {
     "name": "stdout",
     "output_type": "stream",
     "text": [
      "Original Size (2448, 3264, 3)\n",
      "Resized and normalized image (1, 224, 224, 3)\n"
     ]
    }
   ],
   "source": [
    "img_path = os.path.join('..',params['temp_dir'], 'test_img.jpg')\n",
    "img_width = 224\n",
    "img_height = 224\n",
    "\n",
    "test_img = cv2.imread(img_path)\n",
    "print('Original Size',test_img.shape)\n",
    "\n",
    "img_resize = cv2.resize(test_img,(img_width,img_height))\n",
    "img_resize = img_resize[None, ...]\n",
    "\n",
    "img_normalized = (img_resize / 255.0)\n",
    "print('Resized and normalized image', img_normalized.shape)"
   ]
  },
  {
   "cell_type": "markdown",
   "metadata": {},
   "source": [
    "### Load pretrained model"
   ]
  },
  {
   "cell_type": "code",
   "execution_count": 13,
   "metadata": {
    "collapsed": false
   },
   "outputs": [],
   "source": [
    "pretrain_model = model._initialize_pretrained_model()"
   ]
  },
  {
   "cell_type": "markdown",
   "metadata": {},
   "source": [
    "### Make predictions"
   ]
  },
  {
   "cell_type": "code",
   "execution_count": 14,
   "metadata": {
    "collapsed": false
   },
   "outputs": [],
   "source": [
    "video_path = os.path.join(params['videos_folder'],'videoplayback.mp4')\n",
    "video_gen = vi.load_video(video_path)"
   ]
  },
  {
   "cell_type": "code",
   "execution_count": 15,
   "metadata": {
    "collapsed": false
   },
   "outputs": [],
   "source": [
    "block4_pool_features = pretrain_model.predict(next(video_gen))"
   ]
  },
  {
   "cell_type": "code",
   "execution_count": 16,
   "metadata": {
    "collapsed": false
   },
   "outputs": [
    {
     "data": {
      "text/plain": [
       "(644, 5, 5, 1536)"
      ]
     },
     "execution_count": 16,
     "metadata": {},
     "output_type": "execute_result"
    }
   ],
   "source": [
    "block4_pool_features.shape"
   ]
  },
  {
   "cell_type": "code",
   "execution_count": 17,
   "metadata": {
    "collapsed": false
   },
   "outputs": [],
   "source": [
    "x = model._pretrained_one(block4_pool_features)\n",
    "\n",
    "with tf.Session() as sess:\n",
    "    sess.run(tf.global_variables_initializer())\n",
    "    sess.run(tf.tables_initializer())\n",
    "    elements = sess.run(x)"
   ]
  },
  {
   "cell_type": "code",
   "execution_count": 18,
   "metadata": {
    "collapsed": false
   },
   "outputs": [
    {
     "data": {
      "text/plain": [
       "array([0.5991738 , 0.39890918, 0.54884744, 0.58491796, 0.49875844,\n",
       "       0.6633831 , 0.4610215 , 0.48753986, 0.55230516, 0.73752356,\n",
       "       0.6895586 , 0.5144405 , 0.68510246, 0.55465204, 0.67978007,\n",
       "       0.5118008 , 0.3712615 , 0.4681861 , 0.43286905, 0.5790298 ,\n",
       "       0.511032  , 0.45862073, 0.6345001 , 0.38931087, 0.5389054 ,\n",
       "       0.57338625, 0.5118364 , 0.45663428, 0.6264829 , 0.39470193,\n",
       "       0.4903332 , 0.5296766 , 0.42885098, 0.45153227, 0.4189087 ,\n",
       "       0.5063828 , 0.40658584, 0.40025932, 0.4886654 , 0.44674605,\n",
       "       0.51520175, 0.43246642, 0.39662555, 0.55826545, 0.343367  ,\n",
       "       0.5327681 , 0.49816585, 0.5795686 , 0.5163955 , 0.65860146,\n",
       "       0.38446668, 0.49901688, 0.5851726 , 0.4817238 , 0.40790725,\n",
       "       0.58252823, 0.6432604 , 0.53558576, 0.6118953 , 0.4323362 ,\n",
       "       0.4872922 , 0.48305306, 0.5456262 , 0.5101642 , 0.6063409 ,\n",
       "       0.6129402 , 0.4272153 , 0.5265189 , 0.6553963 , 0.5552257 ,\n",
       "       0.51442426, 0.41636285, 0.7153402 , 0.4962433 , 0.58740973,\n",
       "       0.383699  , 0.6442918 , 0.45709324, 0.6745212 , 0.5366987 ,\n",
       "       0.43885216, 0.6257293 , 0.66013247, 0.54337114, 0.36274177,\n",
       "       0.55901855, 0.29094458, 0.5653581 , 0.3875116 , 0.47236636,\n",
       "       0.4191204 , 0.49842107, 0.3525061 , 0.59223235, 0.42486036,\n",
       "       0.33243614, 0.56460035, 0.6036119 , 0.55926234, 0.4076605 ,\n",
       "       0.4666299 ], dtype=float32)"
      ]
     },
     "execution_count": 18,
     "metadata": {},
     "output_type": "execute_result"
    }
   ],
   "source": [
    "elements[0,...]"
   ]
  },
  {
   "cell_type": "code",
   "execution_count": 22,
   "metadata": {
    "collapsed": false
   },
   "outputs": [],
   "source": [
    "x = model._pretrained_two(block4_pool_features)\n",
    "\n",
    "with tf.Session() as sess:\n",
    "    sess.run(tf.global_variables_initializer())\n",
    "    sess.run(tf.tables_initializer())\n",
    "    elements = sess.run(x)"
   ]
  },
  {
   "cell_type": "code",
   "execution_count": 23,
   "metadata": {
    "collapsed": false
   },
   "outputs": [
    {
     "data": {
      "text/plain": [
       "array([0.00400459, 0.01085337, 0.02087608, 0.0149787 , 0.01605831,\n",
       "       0.00466571, 0.01013105, 0.01187607, 0.01378341, 0.01127759,\n",
       "       0.00506886, 0.00875251, 0.00623035, 0.01638601, 0.01004365,\n",
       "       0.00795197, 0.01034357, 0.02756001, 0.01510367, 0.00900358,\n",
       "       0.00510436, 0.00578937, 0.0050557 , 0.01797385, 0.00707288,\n",
       "       0.00994353, 0.01236697, 0.01513159, 0.00756992, 0.00994322,\n",
       "       0.01121983, 0.00547572, 0.01047068, 0.01461672, 0.01162347,\n",
       "       0.01621258, 0.00671258, 0.01428959, 0.00748722, 0.00386721,\n",
       "       0.00729972, 0.00924714, 0.00977064, 0.01026657, 0.00787268,\n",
       "       0.00774136, 0.00625807, 0.0154231 , 0.01169518, 0.00450689,\n",
       "       0.00688122, 0.00347036, 0.02989487, 0.01126648, 0.01189918,\n",
       "       0.01644664, 0.01346847, 0.00728928, 0.00644581, 0.01332345,\n",
       "       0.00658745, 0.00913884, 0.01161848, 0.00619993, 0.00451522,\n",
       "       0.00575432, 0.00605281, 0.0162519 , 0.01543112, 0.00790877,\n",
       "       0.0061468 , 0.00544485, 0.00830282, 0.01603138, 0.01023585,\n",
       "       0.00518124, 0.00900299, 0.00645593, 0.01115362, 0.00391122,\n",
       "       0.00644924, 0.01121389, 0.01298977, 0.01704845, 0.00529216,\n",
       "       0.00726754, 0.00647306, 0.00885766, 0.01937629, 0.00895166,\n",
       "       0.01430615, 0.00426073, 0.00975578, 0.01169387, 0.00592371,\n",
       "       0.00375134, 0.00596056, 0.00572484, 0.0103854 , 0.0096492 ],\n",
       "      dtype=float32)"
      ]
     },
     "execution_count": 23,
     "metadata": {},
     "output_type": "execute_result"
    }
   ],
   "source": [
    "elements[0,...]"
   ]
  }
 ],
 "metadata": {
  "kernelspec": {
   "display_name": "Python 3",
   "language": "python",
   "name": "python3"
  },
  "language_info": {
   "codemirror_mode": {
    "name": "ipython",
    "version": 3
   },
   "file_extension": ".py",
   "mimetype": "text/x-python",
   "name": "python",
   "nbconvert_exporter": "python",
   "pygments_lexer": "ipython3",
   "version": "3.6.8"
  }
 },
 "nbformat": 4,
 "nbformat_minor": 2
}
